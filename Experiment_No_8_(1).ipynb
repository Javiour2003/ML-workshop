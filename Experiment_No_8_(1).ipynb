{
  "cells": [
    {
      "cell_type": "markdown",
      "metadata": {
        "id": "view-in-github",
        "colab_type": "text"
      },
      "source": [
        "<a href=\"https://colab.research.google.com/github/Javiour2003/ML-workshop/blob/master/Experiment_No_8_(1).ipynb\" target=\"_parent\"><img src=\"https://colab.research.google.com/assets/colab-badge.svg\" alt=\"Open In Colab\"/></a>"
      ]
    },
    {
      "cell_type": "code",
      "execution_count": null,
      "metadata": {
        "id": "YBcKXIZjAQ1r"
      },
      "outputs": [],
      "source": [
        "import numpy as np\n",
        "import pandas as pd\n",
        "import matplotlib.pyplot as plt\n",
        "import seaborn as sns"
      ]
    },
    {
      "cell_type": "code",
      "source": [
        "from google.colab import drive\n",
        "drive.mount('/content/drive')"
      ],
      "metadata": {
        "colab": {
          "base_uri": "https://localhost:8080/"
        },
        "id": "zNfnxCHYkC1r",
        "outputId": "9d033987-3c65-4e01-91f5-b09071bc4893"
      },
      "execution_count": null,
      "outputs": [
        {
          "output_type": "stream",
          "name": "stdout",
          "text": [
            "Mounted at /content/drive\n"
          ]
        }
      ]
    },
    {
      "cell_type": "code",
      "execution_count": null,
      "metadata": {
        "id": "uvdVR5nKj_ZH",
        "outputId": "63ca8305-1231-4c4f-95df-200fe8e91852",
        "colab": {
          "base_uri": "https://localhost:8080/"
        }
      },
      "outputs": [
        {
          "output_type": "stream",
          "name": "stdout",
          "text": [
            "Looking in indexes: https://pypi.org/simple, https://us-python.pkg.dev/colab-wheels/public/simple/\n",
            "Requirement already satisfied: openpyxl in /usr/local/lib/python3.7/dist-packages (3.0.10)\n",
            "Requirement already satisfied: et-xmlfile in /usr/local/lib/python3.7/dist-packages (from openpyxl) (1.1.0)\n"
          ]
        }
      ],
      "source": [
        "%pip install openpyxl"
      ]
    },
    {
      "cell_type": "code",
      "execution_count": null,
      "metadata": {
        "colab": {
          "base_uri": "https://localhost:8080/",
          "height": 386
        },
        "id": "jMB0_x4qAe_w",
        "outputId": "f34c8833-188e-489f-ddbd-4a6ab854988c"
      },
      "outputs": [
        {
          "output_type": "execute_result",
          "data": {
            "text/plain": [
              "          hotel  is_canceled  lead_time  arrival_date_year arrival_date_month  \\\n",
              "0  Resort Hotel            0        342               2015               July   \n",
              "1  Resort Hotel            0        737               2015               July   \n",
              "2  Resort Hotel            0          7               2015               July   \n",
              "3  Resort Hotel            0         13               2015               July   \n",
              "4  Resort Hotel            0         14               2015               July   \n",
              "\n",
              "   arrival_date_week_number  arrival_date_day_of_month  \\\n",
              "0                        27                          1   \n",
              "1                        27                          1   \n",
              "2                        27                          1   \n",
              "3                        27                          1   \n",
              "4                        27                          1   \n",
              "\n",
              "   stays_in_weekend_nights  stays_in_week_nights  adults  ...  deposit_type  \\\n",
              "0                        0                     0       2  ...    No Deposit   \n",
              "1                        0                     0       2  ...    No Deposit   \n",
              "2                        0                     1       1  ...    No Deposit   \n",
              "3                        0                     1       1  ...    No Deposit   \n",
              "4                        0                     2       2  ...    No Deposit   \n",
              "\n",
              "   agent company days_in_waiting_list customer_type   adr  \\\n",
              "0    NaN     NaN                    0     Transient   0.0   \n",
              "1    NaN     NaN                    0     Transient   0.0   \n",
              "2    NaN     NaN                    0     Transient  75.0   \n",
              "3  304.0     NaN                    0     Transient  75.0   \n",
              "4  240.0     NaN                    0     Transient  98.0   \n",
              "\n",
              "   required_car_parking_spaces  total_of_special_requests  reservation_status  \\\n",
              "0                            0                          0           Check-Out   \n",
              "1                            0                          0           Check-Out   \n",
              "2                            0                          0           Check-Out   \n",
              "3                            0                          0           Check-Out   \n",
              "4                            0                          1           Check-Out   \n",
              "\n",
              "  reservation_status_date  \n",
              "0              2015-07-01  \n",
              "1              2015-07-01  \n",
              "2              2015-07-02  \n",
              "3              2015-07-02  \n",
              "4              2015-07-03  \n",
              "\n",
              "[5 rows x 32 columns]"
            ],
            "text/html": [
              "\n",
              "  <div id=\"df-38b9d779-0463-44c9-8435-bf52b8bf0f33\">\n",
              "    <div class=\"colab-df-container\">\n",
              "      <div>\n",
              "<style scoped>\n",
              "    .dataframe tbody tr th:only-of-type {\n",
              "        vertical-align: middle;\n",
              "    }\n",
              "\n",
              "    .dataframe tbody tr th {\n",
              "        vertical-align: top;\n",
              "    }\n",
              "\n",
              "    .dataframe thead th {\n",
              "        text-align: right;\n",
              "    }\n",
              "</style>\n",
              "<table border=\"1\" class=\"dataframe\">\n",
              "  <thead>\n",
              "    <tr style=\"text-align: right;\">\n",
              "      <th></th>\n",
              "      <th>hotel</th>\n",
              "      <th>is_canceled</th>\n",
              "      <th>lead_time</th>\n",
              "      <th>arrival_date_year</th>\n",
              "      <th>arrival_date_month</th>\n",
              "      <th>arrival_date_week_number</th>\n",
              "      <th>arrival_date_day_of_month</th>\n",
              "      <th>stays_in_weekend_nights</th>\n",
              "      <th>stays_in_week_nights</th>\n",
              "      <th>adults</th>\n",
              "      <th>...</th>\n",
              "      <th>deposit_type</th>\n",
              "      <th>agent</th>\n",
              "      <th>company</th>\n",
              "      <th>days_in_waiting_list</th>\n",
              "      <th>customer_type</th>\n",
              "      <th>adr</th>\n",
              "      <th>required_car_parking_spaces</th>\n",
              "      <th>total_of_special_requests</th>\n",
              "      <th>reservation_status</th>\n",
              "      <th>reservation_status_date</th>\n",
              "    </tr>\n",
              "  </thead>\n",
              "  <tbody>\n",
              "    <tr>\n",
              "      <th>0</th>\n",
              "      <td>Resort Hotel</td>\n",
              "      <td>0</td>\n",
              "      <td>342</td>\n",
              "      <td>2015</td>\n",
              "      <td>July</td>\n",
              "      <td>27</td>\n",
              "      <td>1</td>\n",
              "      <td>0</td>\n",
              "      <td>0</td>\n",
              "      <td>2</td>\n",
              "      <td>...</td>\n",
              "      <td>No Deposit</td>\n",
              "      <td>NaN</td>\n",
              "      <td>NaN</td>\n",
              "      <td>0</td>\n",
              "      <td>Transient</td>\n",
              "      <td>0.0</td>\n",
              "      <td>0</td>\n",
              "      <td>0</td>\n",
              "      <td>Check-Out</td>\n",
              "      <td>2015-07-01</td>\n",
              "    </tr>\n",
              "    <tr>\n",
              "      <th>1</th>\n",
              "      <td>Resort Hotel</td>\n",
              "      <td>0</td>\n",
              "      <td>737</td>\n",
              "      <td>2015</td>\n",
              "      <td>July</td>\n",
              "      <td>27</td>\n",
              "      <td>1</td>\n",
              "      <td>0</td>\n",
              "      <td>0</td>\n",
              "      <td>2</td>\n",
              "      <td>...</td>\n",
              "      <td>No Deposit</td>\n",
              "      <td>NaN</td>\n",
              "      <td>NaN</td>\n",
              "      <td>0</td>\n",
              "      <td>Transient</td>\n",
              "      <td>0.0</td>\n",
              "      <td>0</td>\n",
              "      <td>0</td>\n",
              "      <td>Check-Out</td>\n",
              "      <td>2015-07-01</td>\n",
              "    </tr>\n",
              "    <tr>\n",
              "      <th>2</th>\n",
              "      <td>Resort Hotel</td>\n",
              "      <td>0</td>\n",
              "      <td>7</td>\n",
              "      <td>2015</td>\n",
              "      <td>July</td>\n",
              "      <td>27</td>\n",
              "      <td>1</td>\n",
              "      <td>0</td>\n",
              "      <td>1</td>\n",
              "      <td>1</td>\n",
              "      <td>...</td>\n",
              "      <td>No Deposit</td>\n",
              "      <td>NaN</td>\n",
              "      <td>NaN</td>\n",
              "      <td>0</td>\n",
              "      <td>Transient</td>\n",
              "      <td>75.0</td>\n",
              "      <td>0</td>\n",
              "      <td>0</td>\n",
              "      <td>Check-Out</td>\n",
              "      <td>2015-07-02</td>\n",
              "    </tr>\n",
              "    <tr>\n",
              "      <th>3</th>\n",
              "      <td>Resort Hotel</td>\n",
              "      <td>0</td>\n",
              "      <td>13</td>\n",
              "      <td>2015</td>\n",
              "      <td>July</td>\n",
              "      <td>27</td>\n",
              "      <td>1</td>\n",
              "      <td>0</td>\n",
              "      <td>1</td>\n",
              "      <td>1</td>\n",
              "      <td>...</td>\n",
              "      <td>No Deposit</td>\n",
              "      <td>304.0</td>\n",
              "      <td>NaN</td>\n",
              "      <td>0</td>\n",
              "      <td>Transient</td>\n",
              "      <td>75.0</td>\n",
              "      <td>0</td>\n",
              "      <td>0</td>\n",
              "      <td>Check-Out</td>\n",
              "      <td>2015-07-02</td>\n",
              "    </tr>\n",
              "    <tr>\n",
              "      <th>4</th>\n",
              "      <td>Resort Hotel</td>\n",
              "      <td>0</td>\n",
              "      <td>14</td>\n",
              "      <td>2015</td>\n",
              "      <td>July</td>\n",
              "      <td>27</td>\n",
              "      <td>1</td>\n",
              "      <td>0</td>\n",
              "      <td>2</td>\n",
              "      <td>2</td>\n",
              "      <td>...</td>\n",
              "      <td>No Deposit</td>\n",
              "      <td>240.0</td>\n",
              "      <td>NaN</td>\n",
              "      <td>0</td>\n",
              "      <td>Transient</td>\n",
              "      <td>98.0</td>\n",
              "      <td>0</td>\n",
              "      <td>1</td>\n",
              "      <td>Check-Out</td>\n",
              "      <td>2015-07-03</td>\n",
              "    </tr>\n",
              "  </tbody>\n",
              "</table>\n",
              "<p>5 rows × 32 columns</p>\n",
              "</div>\n",
              "      <button class=\"colab-df-convert\" onclick=\"convertToInteractive('df-38b9d779-0463-44c9-8435-bf52b8bf0f33')\"\n",
              "              title=\"Convert this dataframe to an interactive table.\"\n",
              "              style=\"display:none;\">\n",
              "        \n",
              "  <svg xmlns=\"http://www.w3.org/2000/svg\" height=\"24px\"viewBox=\"0 0 24 24\"\n",
              "       width=\"24px\">\n",
              "    <path d=\"M0 0h24v24H0V0z\" fill=\"none\"/>\n",
              "    <path d=\"M18.56 5.44l.94 2.06.94-2.06 2.06-.94-2.06-.94-.94-2.06-.94 2.06-2.06.94zm-11 1L8.5 8.5l.94-2.06 2.06-.94-2.06-.94L8.5 2.5l-.94 2.06-2.06.94zm10 10l.94 2.06.94-2.06 2.06-.94-2.06-.94-.94-2.06-.94 2.06-2.06.94z\"/><path d=\"M17.41 7.96l-1.37-1.37c-.4-.4-.92-.59-1.43-.59-.52 0-1.04.2-1.43.59L10.3 9.45l-7.72 7.72c-.78.78-.78 2.05 0 2.83L4 21.41c.39.39.9.59 1.41.59.51 0 1.02-.2 1.41-.59l7.78-7.78 2.81-2.81c.8-.78.8-2.07 0-2.86zM5.41 20L4 18.59l7.72-7.72 1.47 1.35L5.41 20z\"/>\n",
              "  </svg>\n",
              "      </button>\n",
              "      \n",
              "  <style>\n",
              "    .colab-df-container {\n",
              "      display:flex;\n",
              "      flex-wrap:wrap;\n",
              "      gap: 12px;\n",
              "    }\n",
              "\n",
              "    .colab-df-convert {\n",
              "      background-color: #E8F0FE;\n",
              "      border: none;\n",
              "      border-radius: 50%;\n",
              "      cursor: pointer;\n",
              "      display: none;\n",
              "      fill: #1967D2;\n",
              "      height: 32px;\n",
              "      padding: 0 0 0 0;\n",
              "      width: 32px;\n",
              "    }\n",
              "\n",
              "    .colab-df-convert:hover {\n",
              "      background-color: #E2EBFA;\n",
              "      box-shadow: 0px 1px 2px rgba(60, 64, 67, 0.3), 0px 1px 3px 1px rgba(60, 64, 67, 0.15);\n",
              "      fill: #174EA6;\n",
              "    }\n",
              "\n",
              "    [theme=dark] .colab-df-convert {\n",
              "      background-color: #3B4455;\n",
              "      fill: #D2E3FC;\n",
              "    }\n",
              "\n",
              "    [theme=dark] .colab-df-convert:hover {\n",
              "      background-color: #434B5C;\n",
              "      box-shadow: 0px 1px 3px 1px rgba(0, 0, 0, 0.15);\n",
              "      filter: drop-shadow(0px 1px 2px rgba(0, 0, 0, 0.3));\n",
              "      fill: #FFFFFF;\n",
              "    }\n",
              "  </style>\n",
              "\n",
              "      <script>\n",
              "        const buttonEl =\n",
              "          document.querySelector('#df-38b9d779-0463-44c9-8435-bf52b8bf0f33 button.colab-df-convert');\n",
              "        buttonEl.style.display =\n",
              "          google.colab.kernel.accessAllowed ? 'block' : 'none';\n",
              "\n",
              "        async function convertToInteractive(key) {\n",
              "          const element = document.querySelector('#df-38b9d779-0463-44c9-8435-bf52b8bf0f33');\n",
              "          const dataTable =\n",
              "            await google.colab.kernel.invokeFunction('convertToInteractive',\n",
              "                                                     [key], {});\n",
              "          if (!dataTable) return;\n",
              "\n",
              "          const docLinkHtml = 'Like what you see? Visit the ' +\n",
              "            '<a target=\"_blank\" href=https://colab.research.google.com/notebooks/data_table.ipynb>data table notebook</a>'\n",
              "            + ' to learn more about interactive tables.';\n",
              "          element.innerHTML = '';\n",
              "          dataTable['output_type'] = 'display_data';\n",
              "          await google.colab.output.renderOutput(dataTable, element);\n",
              "          const docLink = document.createElement('div');\n",
              "          docLink.innerHTML = docLinkHtml;\n",
              "          element.appendChild(docLink);\n",
              "        }\n",
              "      </script>\n",
              "    </div>\n",
              "  </div>\n",
              "  "
            ]
          },
          "metadata": {},
          "execution_count": 4
        }
      ],
      "source": [
        "df=pd.read_excel(r\"/content/drive/MyDrive/Colab Notebooks/DataSet/Reservations.xlsx\")#created the data set\n",
        "df.head()"
      ]
    },
    {
      "cell_type": "code",
      "execution_count": null,
      "metadata": {
        "colab": {
          "base_uri": "https://localhost:8080/"
        },
        "id": "5Jv28za0BOfX",
        "outputId": "189edb17-8170-4a70-f223-e45ec4f1293e"
      },
      "outputs": [
        {
          "name": "stdout",
          "output_type": "stream",
          "text": [
            "<class 'pandas.core.frame.DataFrame'>\n",
            "RangeIndex: 119390 entries, 0 to 119389\n",
            "Data columns (total 32 columns):\n",
            " #   Column                          Non-Null Count   Dtype  \n",
            "---  ------                          --------------   -----  \n",
            " 0   hotel                           119390 non-null  object \n",
            " 1   is_canceled                     119390 non-null  int64  \n",
            " 2   lead_time                       119390 non-null  int64  \n",
            " 3   arrival_date_year               119390 non-null  int64  \n",
            " 4   arrival_date_month              119390 non-null  object \n",
            " 5   arrival_date_week_number        119390 non-null  int64  \n",
            " 6   arrival_date_day_of_month       119390 non-null  int64  \n",
            " 7   stays_in_weekend_nights         119390 non-null  int64  \n",
            " 8   stays_in_week_nights            119390 non-null  int64  \n",
            " 9   adults                          119390 non-null  int64  \n",
            " 10  children                        119386 non-null  float64\n",
            " 11  babies                          119390 non-null  int64  \n",
            " 12  meal                            119390 non-null  object \n",
            " 13  country                         118902 non-null  object \n",
            " 14  market_segment                  119390 non-null  object \n",
            " 15  distribution_channel            119390 non-null  object \n",
            " 16  is_repeated_guest               119390 non-null  int64  \n",
            " 17  previous_cancellations          119390 non-null  int64  \n",
            " 18  previous_bookings_not_canceled  119390 non-null  int64  \n",
            " 19  reserved_room_type              119390 non-null  object \n",
            " 20  assigned_room_type              119390 non-null  object \n",
            " 21  booking_changes                 119390 non-null  int64  \n",
            " 22  deposit_type                    119390 non-null  object \n",
            " 23  agent                           103050 non-null  float64\n",
            " 24  company                         6797 non-null    float64\n",
            " 25  days_in_waiting_list            119390 non-null  int64  \n",
            " 26  customer_type                   119390 non-null  object \n",
            " 27  adr                             119390 non-null  float64\n",
            " 28  required_car_parking_spaces     119390 non-null  int64  \n",
            " 29  total_of_special_requests       119390 non-null  int64  \n",
            " 30  reservation_status              119390 non-null  object \n",
            " 31  reservation_status_date         119390 non-null  object \n",
            "dtypes: float64(4), int64(16), object(12)\n",
            "memory usage: 29.1+ MB\n"
          ]
        }
      ],
      "source": [
        "df.info()"
      ]
    },
    {
      "cell_type": "markdown",
      "metadata": {
        "id": "Pr74QPVlUKg2"
      },
      "source": [
        "# Handling Null Values"
      ]
    },
    {
      "cell_type": "code",
      "execution_count": null,
      "metadata": {
        "colab": {
          "base_uri": "https://localhost:8080/",
          "height": 1000
        },
        "id": "vgif9xRtBh5Q",
        "outputId": "05c40193-067b-4479-9fd4-f658379efc62"
      },
      "outputs": [
        {
          "data": {
            "text/html": [
              "<div>\n",
              "<style scoped>\n",
              "    .dataframe tbody tr th:only-of-type {\n",
              "        vertical-align: middle;\n",
              "    }\n",
              "\n",
              "    .dataframe tbody tr th {\n",
              "        vertical-align: top;\n",
              "    }\n",
              "\n",
              "    .dataframe thead th {\n",
              "        text-align: right;\n",
              "    }\n",
              "</style>\n",
              "<table border=\"1\" class=\"dataframe\">\n",
              "  <thead>\n",
              "    <tr style=\"text-align: right;\">\n",
              "      <th></th>\n",
              "      <th>null values</th>\n",
              "    </tr>\n",
              "  </thead>\n",
              "  <tbody>\n",
              "    <tr>\n",
              "      <th>hotel</th>\n",
              "      <td>0</td>\n",
              "    </tr>\n",
              "    <tr>\n",
              "      <th>is_canceled</th>\n",
              "      <td>0</td>\n",
              "    </tr>\n",
              "    <tr>\n",
              "      <th>lead_time</th>\n",
              "      <td>0</td>\n",
              "    </tr>\n",
              "    <tr>\n",
              "      <th>arrival_date_year</th>\n",
              "      <td>0</td>\n",
              "    </tr>\n",
              "    <tr>\n",
              "      <th>arrival_date_month</th>\n",
              "      <td>0</td>\n",
              "    </tr>\n",
              "    <tr>\n",
              "      <th>arrival_date_week_number</th>\n",
              "      <td>0</td>\n",
              "    </tr>\n",
              "    <tr>\n",
              "      <th>arrival_date_day_of_month</th>\n",
              "      <td>0</td>\n",
              "    </tr>\n",
              "    <tr>\n",
              "      <th>stays_in_weekend_nights</th>\n",
              "      <td>0</td>\n",
              "    </tr>\n",
              "    <tr>\n",
              "      <th>stays_in_week_nights</th>\n",
              "      <td>0</td>\n",
              "    </tr>\n",
              "    <tr>\n",
              "      <th>adults</th>\n",
              "      <td>0</td>\n",
              "    </tr>\n",
              "    <tr>\n",
              "      <th>children</th>\n",
              "      <td>4</td>\n",
              "    </tr>\n",
              "    <tr>\n",
              "      <th>babies</th>\n",
              "      <td>0</td>\n",
              "    </tr>\n",
              "    <tr>\n",
              "      <th>meal</th>\n",
              "      <td>0</td>\n",
              "    </tr>\n",
              "    <tr>\n",
              "      <th>country</th>\n",
              "      <td>488</td>\n",
              "    </tr>\n",
              "    <tr>\n",
              "      <th>market_segment</th>\n",
              "      <td>0</td>\n",
              "    </tr>\n",
              "    <tr>\n",
              "      <th>distribution_channel</th>\n",
              "      <td>0</td>\n",
              "    </tr>\n",
              "    <tr>\n",
              "      <th>is_repeated_guest</th>\n",
              "      <td>0</td>\n",
              "    </tr>\n",
              "    <tr>\n",
              "      <th>previous_cancellations</th>\n",
              "      <td>0</td>\n",
              "    </tr>\n",
              "    <tr>\n",
              "      <th>previous_bookings_not_canceled</th>\n",
              "      <td>0</td>\n",
              "    </tr>\n",
              "    <tr>\n",
              "      <th>reserved_room_type</th>\n",
              "      <td>0</td>\n",
              "    </tr>\n",
              "    <tr>\n",
              "      <th>assigned_room_type</th>\n",
              "      <td>0</td>\n",
              "    </tr>\n",
              "    <tr>\n",
              "      <th>booking_changes</th>\n",
              "      <td>0</td>\n",
              "    </tr>\n",
              "    <tr>\n",
              "      <th>deposit_type</th>\n",
              "      <td>0</td>\n",
              "    </tr>\n",
              "    <tr>\n",
              "      <th>agent</th>\n",
              "      <td>16340</td>\n",
              "    </tr>\n",
              "    <tr>\n",
              "      <th>company</th>\n",
              "      <td>112593</td>\n",
              "    </tr>\n",
              "    <tr>\n",
              "      <th>days_in_waiting_list</th>\n",
              "      <td>0</td>\n",
              "    </tr>\n",
              "    <tr>\n",
              "      <th>customer_type</th>\n",
              "      <td>0</td>\n",
              "    </tr>\n",
              "    <tr>\n",
              "      <th>adr</th>\n",
              "      <td>0</td>\n",
              "    </tr>\n",
              "    <tr>\n",
              "      <th>required_car_parking_spaces</th>\n",
              "      <td>0</td>\n",
              "    </tr>\n",
              "    <tr>\n",
              "      <th>total_of_special_requests</th>\n",
              "      <td>0</td>\n",
              "    </tr>\n",
              "    <tr>\n",
              "      <th>reservation_status</th>\n",
              "      <td>0</td>\n",
              "    </tr>\n",
              "    <tr>\n",
              "      <th>reservation_status_date</th>\n",
              "      <td>0</td>\n",
              "    </tr>\n",
              "  </tbody>\n",
              "</table>\n",
              "</div>"
            ],
            "text/plain": [
              "                                null values\n",
              "hotel                                     0\n",
              "is_canceled                               0\n",
              "lead_time                                 0\n",
              "arrival_date_year                         0\n",
              "arrival_date_month                        0\n",
              "arrival_date_week_number                  0\n",
              "arrival_date_day_of_month                 0\n",
              "stays_in_weekend_nights                   0\n",
              "stays_in_week_nights                      0\n",
              "adults                                    0\n",
              "children                                  4\n",
              "babies                                    0\n",
              "meal                                      0\n",
              "country                                 488\n",
              "market_segment                            0\n",
              "distribution_channel                      0\n",
              "is_repeated_guest                         0\n",
              "previous_cancellations                    0\n",
              "previous_bookings_not_canceled            0\n",
              "reserved_room_type                        0\n",
              "assigned_room_type                        0\n",
              "booking_changes                           0\n",
              "deposit_type                              0\n",
              "agent                                 16340\n",
              "company                              112593\n",
              "days_in_waiting_list                      0\n",
              "customer_type                             0\n",
              "adr                                       0\n",
              "required_car_parking_spaces               0\n",
              "total_of_special_requests                 0\n",
              "reservation_status                        0\n",
              "reservation_status_date                   0"
            ]
          },
          "execution_count": 5,
          "metadata": {},
          "output_type": "execute_result"
        }
      ],
      "source": [
        "df_null=pd.DataFrame(df.isnull().sum(),columns=[\"null values\"])\n",
        "df_null"
      ]
    },
    {
      "cell_type": "code",
      "execution_count": null,
      "metadata": {
        "colab": {
          "base_uri": "https://localhost:8080/",
          "height": 1000
        },
        "id": "YKGPBZ6RBnF9",
        "outputId": "8115f7ca-a9fa-4141-ada6-db68ccf9faa2"
      },
      "outputs": [
        {
          "data": {
            "text/html": [
              "<div>\n",
              "<style scoped>\n",
              "    .dataframe tbody tr th:only-of-type {\n",
              "        vertical-align: middle;\n",
              "    }\n",
              "\n",
              "    .dataframe tbody tr th {\n",
              "        vertical-align: top;\n",
              "    }\n",
              "\n",
              "    .dataframe thead th {\n",
              "        text-align: right;\n",
              "    }\n",
              "</style>\n",
              "<table border=\"1\" class=\"dataframe\">\n",
              "  <thead>\n",
              "    <tr style=\"text-align: right;\">\n",
              "      <th></th>\n",
              "      <th>null values</th>\n",
              "      <th>Ratio of null values to total values</th>\n",
              "    </tr>\n",
              "  </thead>\n",
              "  <tbody>\n",
              "    <tr>\n",
              "      <th>hotel</th>\n",
              "      <td>0</td>\n",
              "      <td>0.000000</td>\n",
              "    </tr>\n",
              "    <tr>\n",
              "      <th>is_canceled</th>\n",
              "      <td>0</td>\n",
              "      <td>0.000000</td>\n",
              "    </tr>\n",
              "    <tr>\n",
              "      <th>lead_time</th>\n",
              "      <td>0</td>\n",
              "      <td>0.000000</td>\n",
              "    </tr>\n",
              "    <tr>\n",
              "      <th>arrival_date_year</th>\n",
              "      <td>0</td>\n",
              "      <td>0.000000</td>\n",
              "    </tr>\n",
              "    <tr>\n",
              "      <th>arrival_date_month</th>\n",
              "      <td>0</td>\n",
              "      <td>0.000000</td>\n",
              "    </tr>\n",
              "    <tr>\n",
              "      <th>arrival_date_week_number</th>\n",
              "      <td>0</td>\n",
              "      <td>0.000000</td>\n",
              "    </tr>\n",
              "    <tr>\n",
              "      <th>arrival_date_day_of_month</th>\n",
              "      <td>0</td>\n",
              "      <td>0.000000</td>\n",
              "    </tr>\n",
              "    <tr>\n",
              "      <th>stays_in_weekend_nights</th>\n",
              "      <td>0</td>\n",
              "      <td>0.000000</td>\n",
              "    </tr>\n",
              "    <tr>\n",
              "      <th>stays_in_week_nights</th>\n",
              "      <td>0</td>\n",
              "      <td>0.000000</td>\n",
              "    </tr>\n",
              "    <tr>\n",
              "      <th>adults</th>\n",
              "      <td>0</td>\n",
              "      <td>0.000000</td>\n",
              "    </tr>\n",
              "    <tr>\n",
              "      <th>children</th>\n",
              "      <td>4</td>\n",
              "      <td>0.000034</td>\n",
              "    </tr>\n",
              "    <tr>\n",
              "      <th>babies</th>\n",
              "      <td>0</td>\n",
              "      <td>0.000000</td>\n",
              "    </tr>\n",
              "    <tr>\n",
              "      <th>meal</th>\n",
              "      <td>0</td>\n",
              "      <td>0.000000</td>\n",
              "    </tr>\n",
              "    <tr>\n",
              "      <th>country</th>\n",
              "      <td>488</td>\n",
              "      <td>0.004087</td>\n",
              "    </tr>\n",
              "    <tr>\n",
              "      <th>market_segment</th>\n",
              "      <td>0</td>\n",
              "      <td>0.000000</td>\n",
              "    </tr>\n",
              "    <tr>\n",
              "      <th>distribution_channel</th>\n",
              "      <td>0</td>\n",
              "      <td>0.000000</td>\n",
              "    </tr>\n",
              "    <tr>\n",
              "      <th>is_repeated_guest</th>\n",
              "      <td>0</td>\n",
              "      <td>0.000000</td>\n",
              "    </tr>\n",
              "    <tr>\n",
              "      <th>previous_cancellations</th>\n",
              "      <td>0</td>\n",
              "      <td>0.000000</td>\n",
              "    </tr>\n",
              "    <tr>\n",
              "      <th>previous_bookings_not_canceled</th>\n",
              "      <td>0</td>\n",
              "      <td>0.000000</td>\n",
              "    </tr>\n",
              "    <tr>\n",
              "      <th>reserved_room_type</th>\n",
              "      <td>0</td>\n",
              "      <td>0.000000</td>\n",
              "    </tr>\n",
              "    <tr>\n",
              "      <th>assigned_room_type</th>\n",
              "      <td>0</td>\n",
              "      <td>0.000000</td>\n",
              "    </tr>\n",
              "    <tr>\n",
              "      <th>booking_changes</th>\n",
              "      <td>0</td>\n",
              "      <td>0.000000</td>\n",
              "    </tr>\n",
              "    <tr>\n",
              "      <th>deposit_type</th>\n",
              "      <td>0</td>\n",
              "      <td>0.000000</td>\n",
              "    </tr>\n",
              "    <tr>\n",
              "      <th>agent</th>\n",
              "      <td>16340</td>\n",
              "      <td>0.136862</td>\n",
              "    </tr>\n",
              "    <tr>\n",
              "      <th>company</th>\n",
              "      <td>112593</td>\n",
              "      <td>0.943069</td>\n",
              "    </tr>\n",
              "    <tr>\n",
              "      <th>days_in_waiting_list</th>\n",
              "      <td>0</td>\n",
              "      <td>0.000000</td>\n",
              "    </tr>\n",
              "    <tr>\n",
              "      <th>customer_type</th>\n",
              "      <td>0</td>\n",
              "      <td>0.000000</td>\n",
              "    </tr>\n",
              "    <tr>\n",
              "      <th>adr</th>\n",
              "      <td>0</td>\n",
              "      <td>0.000000</td>\n",
              "    </tr>\n",
              "    <tr>\n",
              "      <th>required_car_parking_spaces</th>\n",
              "      <td>0</td>\n",
              "      <td>0.000000</td>\n",
              "    </tr>\n",
              "    <tr>\n",
              "      <th>total_of_special_requests</th>\n",
              "      <td>0</td>\n",
              "      <td>0.000000</td>\n",
              "    </tr>\n",
              "    <tr>\n",
              "      <th>reservation_status</th>\n",
              "      <td>0</td>\n",
              "      <td>0.000000</td>\n",
              "    </tr>\n",
              "    <tr>\n",
              "      <th>reservation_status_date</th>\n",
              "      <td>0</td>\n",
              "      <td>0.000000</td>\n",
              "    </tr>\n",
              "  </tbody>\n",
              "</table>\n",
              "</div>"
            ],
            "text/plain": [
              "                                null values  \\\n",
              "hotel                                     0   \n",
              "is_canceled                               0   \n",
              "lead_time                                 0   \n",
              "arrival_date_year                         0   \n",
              "arrival_date_month                        0   \n",
              "arrival_date_week_number                  0   \n",
              "arrival_date_day_of_month                 0   \n",
              "stays_in_weekend_nights                   0   \n",
              "stays_in_week_nights                      0   \n",
              "adults                                    0   \n",
              "children                                  4   \n",
              "babies                                    0   \n",
              "meal                                      0   \n",
              "country                                 488   \n",
              "market_segment                            0   \n",
              "distribution_channel                      0   \n",
              "is_repeated_guest                         0   \n",
              "previous_cancellations                    0   \n",
              "previous_bookings_not_canceled            0   \n",
              "reserved_room_type                        0   \n",
              "assigned_room_type                        0   \n",
              "booking_changes                           0   \n",
              "deposit_type                              0   \n",
              "agent                                 16340   \n",
              "company                              112593   \n",
              "days_in_waiting_list                      0   \n",
              "customer_type                             0   \n",
              "adr                                       0   \n",
              "required_car_parking_spaces               0   \n",
              "total_of_special_requests                 0   \n",
              "reservation_status                        0   \n",
              "reservation_status_date                   0   \n",
              "\n",
              "                                Ratio of null values to total values  \n",
              "hotel                                                       0.000000  \n",
              "is_canceled                                                 0.000000  \n",
              "lead_time                                                   0.000000  \n",
              "arrival_date_year                                           0.000000  \n",
              "arrival_date_month                                          0.000000  \n",
              "arrival_date_week_number                                    0.000000  \n",
              "arrival_date_day_of_month                                   0.000000  \n",
              "stays_in_weekend_nights                                     0.000000  \n",
              "stays_in_week_nights                                        0.000000  \n",
              "adults                                                      0.000000  \n",
              "children                                                    0.000034  \n",
              "babies                                                      0.000000  \n",
              "meal                                                        0.000000  \n",
              "country                                                     0.004087  \n",
              "market_segment                                              0.000000  \n",
              "distribution_channel                                        0.000000  \n",
              "is_repeated_guest                                           0.000000  \n",
              "previous_cancellations                                      0.000000  \n",
              "previous_bookings_not_canceled                              0.000000  \n",
              "reserved_room_type                                          0.000000  \n",
              "assigned_room_type                                          0.000000  \n",
              "booking_changes                                             0.000000  \n",
              "deposit_type                                                0.000000  \n",
              "agent                                                       0.136862  \n",
              "company                                                     0.943069  \n",
              "days_in_waiting_list                                        0.000000  \n",
              "customer_type                                               0.000000  \n",
              "adr                                                         0.000000  \n",
              "required_car_parking_spaces                                 0.000000  \n",
              "total_of_special_requests                                   0.000000  \n",
              "reservation_status                                          0.000000  \n",
              "reservation_status_date                                     0.000000  "
            ]
          },
          "execution_count": 6,
          "metadata": {},
          "output_type": "execute_result"
        }
      ],
      "source": [
        "#finding ration of null val;ues to the total values using df_null data frame \n",
        "lst=[]\n",
        "for i in df_null[\"null values\"]:\n",
        "  lst.append(i/len(df))\n",
        "df_null[\"Ratio of null values to total values\"]=lst\n",
        "df_null"
      ]
    },
    {
      "cell_type": "code",
      "execution_count": null,
      "metadata": {
        "id": "pEdcznjMBzBU"
      },
      "outputs": [],
      "source": [
        "df=df.drop(columns=['company'])#Since the ratio > 0.5"
      ]
    },
    {
      "cell_type": "code",
      "execution_count": null,
      "metadata": {
        "id": "Opz5wRqbOjpA"
      },
      "outputs": [],
      "source": [
        "df.rename(columns={\"hotel\":\"Hotel_type\"},inplace=True)"
      ]
    },
    {
      "cell_type": "code",
      "execution_count": null,
      "metadata": {
        "colab": {
          "base_uri": "https://localhost:8080/"
        },
        "id": "zc_JBnXlBRpD",
        "outputId": "2b77403e-ea73-4149-9721-21fcab1a52c4"
      },
      "outputs": [
        {
          "data": {
            "text/plain": [
              "count    119386.000000\n",
              "mean          0.103890\n",
              "std           0.398561\n",
              "min           0.000000\n",
              "25%           0.000000\n",
              "50%           0.000000\n",
              "75%           0.000000\n",
              "max          10.000000\n",
              "Name: children, dtype: float64"
            ]
          },
          "execution_count": 9,
          "metadata": {},
          "output_type": "execute_result"
        }
      ],
      "source": [
        "df.children.describe()"
      ]
    },
    {
      "cell_type": "code",
      "execution_count": null,
      "metadata": {
        "id": "67Ptr4JTBWLA"
      },
      "outputs": [],
      "source": [
        "df.children.fillna(0.0,inplace=True)#median value is 0 Fill NA/NaN values using the specified method."
      ]
    },
    {
      "cell_type": "code",
      "execution_count": null,
      "metadata": {
        "colab": {
          "base_uri": "https://localhost:8080/"
        },
        "id": "EEXxbJfIEtNR",
        "outputId": "691852fb-37ad-4b30-facd-2a4dc2a629ea"
      },
      "outputs": [
        {
          "data": {
            "text/plain": [
              "Hotel_type                        0\n",
              "is_canceled                       0\n",
              "lead_time                         0\n",
              "arrival_date_year                 0\n",
              "arrival_date_month                0\n",
              "arrival_date_week_number          0\n",
              "arrival_date_day_of_month         0\n",
              "stays_in_weekend_nights           0\n",
              "stays_in_week_nights              0\n",
              "adults                            0\n",
              "children                          0\n",
              "babies                            0\n",
              "meal                              0\n",
              "country                           0\n",
              "market_segment                    0\n",
              "distribution_channel              0\n",
              "is_repeated_guest                 0\n",
              "previous_cancellations            0\n",
              "previous_bookings_not_canceled    0\n",
              "reserved_room_type                0\n",
              "assigned_room_type                0\n",
              "booking_changes                   0\n",
              "deposit_type                      0\n",
              "agent                             0\n",
              "days_in_waiting_list              0\n",
              "customer_type                     0\n",
              "adr                               0\n",
              "required_car_parking_spaces       0\n",
              "total_of_special_requests         0\n",
              "reservation_status                0\n",
              "reservation_status_date           0\n",
              "dtype: int64"
            ]
          },
          "execution_count": 11,
          "metadata": {},
          "output_type": "execute_result"
        }
      ],
      "source": [
        "df=df.dropna()\n",
        "df.isnull().sum()"
      ]
    },
    {
      "cell_type": "code",
      "execution_count": null,
      "metadata": {
        "id": "CmrE6RddTIX9"
      },
      "outputs": [],
      "source": [
        "df.reset_index(inplace = True )\n",
        "'''to make indexes continuos and it will create an column index\n",
        "if we dont want index column to be created you can add drop=True in the parenthesis'''"
      ]
    },
    {
      "cell_type": "markdown",
      "metadata": {
        "id": "prLoDAUqUWzu"
      },
      "source": [
        "# Crude Analysis"
      ]
    },
    {
      "cell_type": "code",
      "execution_count": null,
      "metadata": {
        "colab": {
          "base_uri": "https://localhost:8080/",
          "height": 143
        },
        "id": "hrMzCXjenpe_",
        "outputId": "84447838-d777-49a3-fa47-a4538e66c05f"
      },
      "outputs": [
        {
          "data": {
            "text/html": [
              "<div>\n",
              "<style scoped>\n",
              "    .dataframe tbody tr th:only-of-type {\n",
              "        vertical-align: middle;\n",
              "    }\n",
              "\n",
              "    .dataframe tbody tr th {\n",
              "        vertical-align: top;\n",
              "    }\n",
              "\n",
              "    .dataframe thead th {\n",
              "        text-align: right;\n",
              "    }\n",
              "</style>\n",
              "<table border=\"1\" class=\"dataframe\">\n",
              "  <thead>\n",
              "    <tr style=\"text-align: right;\">\n",
              "      <th></th>\n",
              "      <th>index</th>\n",
              "      <th>Hotel_type</th>\n",
              "      <th>is_canceled</th>\n",
              "      <th>lead_time</th>\n",
              "      <th>arrival_date_year</th>\n",
              "      <th>arrival_date_month</th>\n",
              "      <th>arrival_date_week_number</th>\n",
              "      <th>arrival_date_day_of_month</th>\n",
              "      <th>stays_in_weekend_nights</th>\n",
              "      <th>stays_in_week_nights</th>\n",
              "      <th>...</th>\n",
              "      <th>booking_changes</th>\n",
              "      <th>deposit_type</th>\n",
              "      <th>agent</th>\n",
              "      <th>days_in_waiting_list</th>\n",
              "      <th>customer_type</th>\n",
              "      <th>adr</th>\n",
              "      <th>required_car_parking_spaces</th>\n",
              "      <th>total_of_special_requests</th>\n",
              "      <th>reservation_status</th>\n",
              "      <th>reservation_status_date</th>\n",
              "    </tr>\n",
              "  </thead>\n",
              "  <tbody>\n",
              "  </tbody>\n",
              "</table>\n",
              "<p>0 rows × 32 columns</p>\n",
              "</div>"
            ],
            "text/plain": [
              "Empty DataFrame\n",
              "Columns: [index, Hotel_type, is_canceled, lead_time, arrival_date_year, arrival_date_month, arrival_date_week_number, arrival_date_day_of_month, stays_in_weekend_nights, stays_in_week_nights, adults, children, babies, meal, country, market_segment, distribution_channel, is_repeated_guest, previous_cancellations, previous_bookings_not_canceled, reserved_room_type, assigned_room_type, booking_changes, deposit_type, agent, days_in_waiting_list, customer_type, adr, required_car_parking_spaces, total_of_special_requests, reservation_status, reservation_status_date]\n",
              "Index: []\n",
              "\n",
              "[0 rows x 32 columns]"
            ]
          },
          "execution_count": 13,
          "metadata": {},
          "output_type": "execute_result"
        }
      ],
      "source": [
        "df[df.duplicated()]#to check the duplicate rows"
      ]
    },
    {
      "cell_type": "code",
      "execution_count": null,
      "metadata": {
        "colab": {
          "base_uri": "https://localhost:8080/"
        },
        "id": "-Xp05CT0-9Y_",
        "outputId": "793b3d10-e1d5-4bc7-b440-40cacfb3bb8d"
      },
      "outputs": [
        {
          "data": {
            "text/plain": [
              "95003"
            ]
          },
          "execution_count": 14,
          "metadata": {},
          "output_type": "execute_result"
        }
      ],
      "source": [
        "c=0\n",
        "for i in df.children:\n",
        "  if(i==0.0):\n",
        "    c=c+1\n",
        "c\n",
        "#Most of the people who are booking hotels are not bringing/not having children "
      ]
    },
    {
      "cell_type": "code",
      "execution_count": null,
      "metadata": {
        "colab": {
          "base_uri": "https://localhost:8080/",
          "height": 364
        },
        "id": "dkl-LLxdC9Rc",
        "outputId": "6c924769-eae3-4a42-ac3d-9d2bee961ac6"
      },
      "outputs": [
        {
          "data": {
            "text/html": [
              "<div>\n",
              "<style scoped>\n",
              "    .dataframe tbody tr th:only-of-type {\n",
              "        vertical-align: middle;\n",
              "    }\n",
              "\n",
              "    .dataframe tbody tr th {\n",
              "        vertical-align: top;\n",
              "    }\n",
              "\n",
              "    .dataframe thead th {\n",
              "        text-align: right;\n",
              "    }\n",
              "</style>\n",
              "<table border=\"1\" class=\"dataframe\">\n",
              "  <thead>\n",
              "    <tr style=\"text-align: right;\">\n",
              "      <th></th>\n",
              "      <th>index</th>\n",
              "      <th>is_canceled</th>\n",
              "      <th>lead_time</th>\n",
              "      <th>arrival_date_year</th>\n",
              "      <th>arrival_date_week_number</th>\n",
              "      <th>arrival_date_day_of_month</th>\n",
              "      <th>stays_in_weekend_nights</th>\n",
              "      <th>stays_in_week_nights</th>\n",
              "      <th>adults</th>\n",
              "      <th>children</th>\n",
              "      <th>babies</th>\n",
              "      <th>is_repeated_guest</th>\n",
              "      <th>previous_cancellations</th>\n",
              "      <th>previous_bookings_not_canceled</th>\n",
              "      <th>booking_changes</th>\n",
              "      <th>agent</th>\n",
              "      <th>days_in_waiting_list</th>\n",
              "      <th>adr</th>\n",
              "      <th>required_car_parking_spaces</th>\n",
              "      <th>total_of_special_requests</th>\n",
              "    </tr>\n",
              "  </thead>\n",
              "  <tbody>\n",
              "    <tr>\n",
              "      <th>count</th>\n",
              "      <td>102896.000000</td>\n",
              "      <td>102896.000000</td>\n",
              "      <td>102896.000000</td>\n",
              "      <td>102896.000000</td>\n",
              "      <td>102896.000000</td>\n",
              "      <td>102896.000000</td>\n",
              "      <td>102896.000000</td>\n",
              "      <td>102896.000000</td>\n",
              "      <td>102896.000000</td>\n",
              "      <td>102896.000000</td>\n",
              "      <td>102896.000000</td>\n",
              "      <td>102896.000000</td>\n",
              "      <td>102896.000000</td>\n",
              "      <td>102896.000000</td>\n",
              "      <td>102896.000000</td>\n",
              "      <td>102896.000000</td>\n",
              "      <td>102896.000000</td>\n",
              "      <td>102896.000000</td>\n",
              "      <td>102896.000000</td>\n",
              "      <td>102896.000000</td>\n",
              "    </tr>\n",
              "    <tr>\n",
              "      <th>mean</th>\n",
              "      <td>61096.622658</td>\n",
              "      <td>0.390326</td>\n",
              "      <td>111.738007</td>\n",
              "      <td>2016.156955</td>\n",
              "      <td>27.339255</td>\n",
              "      <td>15.786639</td>\n",
              "      <td>0.978182</td>\n",
              "      <td>2.589673</td>\n",
              "      <td>1.899928</td>\n",
              "      <td>0.111229</td>\n",
              "      <td>0.007697</td>\n",
              "      <td>0.014034</td>\n",
              "      <td>0.077214</td>\n",
              "      <td>0.024364</td>\n",
              "      <td>0.201777</td>\n",
              "      <td>86.544074</td>\n",
              "      <td>2.619528</td>\n",
              "      <td>104.678736</td>\n",
              "      <td>0.053034</td>\n",
              "      <td>0.605466</td>\n",
              "    </tr>\n",
              "    <tr>\n",
              "      <th>std</th>\n",
              "      <td>34232.370667</td>\n",
              "      <td>0.487826</td>\n",
              "      <td>107.681005</td>\n",
              "      <td>0.706128</td>\n",
              "      <td>13.279881</td>\n",
              "      <td>8.794025</td>\n",
              "      <td>1.003991</td>\n",
              "      <td>1.905939</td>\n",
              "      <td>0.490886</td>\n",
              "      <td>0.411979</td>\n",
              "      <td>0.097088</td>\n",
              "      <td>0.117630</td>\n",
              "      <td>0.758178</td>\n",
              "      <td>0.435755</td>\n",
              "      <td>0.624948</td>\n",
              "      <td>110.713678</td>\n",
              "      <td>18.797261</td>\n",
              "      <td>50.022122</td>\n",
              "      <td>0.225357</td>\n",
              "      <td>0.799336</td>\n",
              "    </tr>\n",
              "    <tr>\n",
              "      <th>min</th>\n",
              "      <td>3.000000</td>\n",
              "      <td>0.000000</td>\n",
              "      <td>0.000000</td>\n",
              "      <td>2015.000000</td>\n",
              "      <td>1.000000</td>\n",
              "      <td>1.000000</td>\n",
              "      <td>0.000000</td>\n",
              "      <td>0.000000</td>\n",
              "      <td>0.000000</td>\n",
              "      <td>0.000000</td>\n",
              "      <td>0.000000</td>\n",
              "      <td>0.000000</td>\n",
              "      <td>0.000000</td>\n",
              "      <td>0.000000</td>\n",
              "      <td>0.000000</td>\n",
              "      <td>1.000000</td>\n",
              "      <td>0.000000</td>\n",
              "      <td>-6.380000</td>\n",
              "      <td>0.000000</td>\n",
              "      <td>0.000000</td>\n",
              "    </tr>\n",
              "    <tr>\n",
              "      <th>25%</th>\n",
              "      <td>32837.250000</td>\n",
              "      <td>0.000000</td>\n",
              "      <td>26.000000</td>\n",
              "      <td>2016.000000</td>\n",
              "      <td>17.000000</td>\n",
              "      <td>8.000000</td>\n",
              "      <td>0.000000</td>\n",
              "      <td>1.000000</td>\n",
              "      <td>2.000000</td>\n",
              "      <td>0.000000</td>\n",
              "      <td>0.000000</td>\n",
              "      <td>0.000000</td>\n",
              "      <td>0.000000</td>\n",
              "      <td>0.000000</td>\n",
              "      <td>0.000000</td>\n",
              "      <td>9.000000</td>\n",
              "      <td>0.000000</td>\n",
              "      <td>73.000000</td>\n",
              "      <td>0.000000</td>\n",
              "      <td>0.000000</td>\n",
              "    </tr>\n",
              "    <tr>\n",
              "      <th>50%</th>\n",
              "      <td>61075.500000</td>\n",
              "      <td>0.000000</td>\n",
              "      <td>79.000000</td>\n",
              "      <td>2016.000000</td>\n",
              "      <td>28.000000</td>\n",
              "      <td>16.000000</td>\n",
              "      <td>1.000000</td>\n",
              "      <td>2.000000</td>\n",
              "      <td>2.000000</td>\n",
              "      <td>0.000000</td>\n",
              "      <td>0.000000</td>\n",
              "      <td>0.000000</td>\n",
              "      <td>0.000000</td>\n",
              "      <td>0.000000</td>\n",
              "      <td>0.000000</td>\n",
              "      <td>14.000000</td>\n",
              "      <td>0.000000</td>\n",
              "      <td>96.300000</td>\n",
              "      <td>0.000000</td>\n",
              "      <td>0.000000</td>\n",
              "    </tr>\n",
              "    <tr>\n",
              "      <th>75%</th>\n",
              "      <td>90898.250000</td>\n",
              "      <td>1.000000</td>\n",
              "      <td>169.000000</td>\n",
              "      <td>2017.000000</td>\n",
              "      <td>38.000000</td>\n",
              "      <td>24.000000</td>\n",
              "      <td>2.000000</td>\n",
              "      <td>3.000000</td>\n",
              "      <td>2.000000</td>\n",
              "      <td>0.000000</td>\n",
              "      <td>0.000000</td>\n",
              "      <td>0.000000</td>\n",
              "      <td>0.000000</td>\n",
              "      <td>0.000000</td>\n",
              "      <td>0.000000</td>\n",
              "      <td>229.000000</td>\n",
              "      <td>0.000000</td>\n",
              "      <td>127.800000</td>\n",
              "      <td>0.000000</td>\n",
              "      <td>1.000000</td>\n",
              "    </tr>\n",
              "    <tr>\n",
              "      <th>max</th>\n",
              "      <td>119389.000000</td>\n",
              "      <td>1.000000</td>\n",
              "      <td>629.000000</td>\n",
              "      <td>2017.000000</td>\n",
              "      <td>53.000000</td>\n",
              "      <td>31.000000</td>\n",
              "      <td>16.000000</td>\n",
              "      <td>41.000000</td>\n",
              "      <td>26.000000</td>\n",
              "      <td>10.000000</td>\n",
              "      <td>10.000000</td>\n",
              "      <td>1.000000</td>\n",
              "      <td>26.000000</td>\n",
              "      <td>50.000000</td>\n",
              "      <td>18.000000</td>\n",
              "      <td>535.000000</td>\n",
              "      <td>391.000000</td>\n",
              "      <td>5400.000000</td>\n",
              "      <td>3.000000</td>\n",
              "      <td>5.000000</td>\n",
              "    </tr>\n",
              "  </tbody>\n",
              "</table>\n",
              "</div>"
            ],
            "text/plain": [
              "               index    is_canceled      lead_time  arrival_date_year  \\\n",
              "count  102896.000000  102896.000000  102896.000000      102896.000000   \n",
              "mean    61096.622658       0.390326     111.738007        2016.156955   \n",
              "std     34232.370667       0.487826     107.681005           0.706128   \n",
              "min         3.000000       0.000000       0.000000        2015.000000   \n",
              "25%     32837.250000       0.000000      26.000000        2016.000000   \n",
              "50%     61075.500000       0.000000      79.000000        2016.000000   \n",
              "75%     90898.250000       1.000000     169.000000        2017.000000   \n",
              "max    119389.000000       1.000000     629.000000        2017.000000   \n",
              "\n",
              "       arrival_date_week_number  arrival_date_day_of_month  \\\n",
              "count             102896.000000              102896.000000   \n",
              "mean                  27.339255                  15.786639   \n",
              "std                   13.279881                   8.794025   \n",
              "min                    1.000000                   1.000000   \n",
              "25%                   17.000000                   8.000000   \n",
              "50%                   28.000000                  16.000000   \n",
              "75%                   38.000000                  24.000000   \n",
              "max                   53.000000                  31.000000   \n",
              "\n",
              "       stays_in_weekend_nights  stays_in_week_nights         adults  \\\n",
              "count            102896.000000         102896.000000  102896.000000   \n",
              "mean                  0.978182              2.589673       1.899928   \n",
              "std                   1.003991              1.905939       0.490886   \n",
              "min                   0.000000              0.000000       0.000000   \n",
              "25%                   0.000000              1.000000       2.000000   \n",
              "50%                   1.000000              2.000000       2.000000   \n",
              "75%                   2.000000              3.000000       2.000000   \n",
              "max                  16.000000             41.000000      26.000000   \n",
              "\n",
              "            children         babies  is_repeated_guest  \\\n",
              "count  102896.000000  102896.000000      102896.000000   \n",
              "mean        0.111229       0.007697           0.014034   \n",
              "std         0.411979       0.097088           0.117630   \n",
              "min         0.000000       0.000000           0.000000   \n",
              "25%         0.000000       0.000000           0.000000   \n",
              "50%         0.000000       0.000000           0.000000   \n",
              "75%         0.000000       0.000000           0.000000   \n",
              "max        10.000000      10.000000           1.000000   \n",
              "\n",
              "       previous_cancellations  previous_bookings_not_canceled  \\\n",
              "count           102896.000000                   102896.000000   \n",
              "mean                 0.077214                        0.024364   \n",
              "std                  0.758178                        0.435755   \n",
              "min                  0.000000                        0.000000   \n",
              "25%                  0.000000                        0.000000   \n",
              "50%                  0.000000                        0.000000   \n",
              "75%                  0.000000                        0.000000   \n",
              "max                 26.000000                       50.000000   \n",
              "\n",
              "       booking_changes          agent  days_in_waiting_list            adr  \\\n",
              "count    102896.000000  102896.000000         102896.000000  102896.000000   \n",
              "mean          0.201777      86.544074              2.619528     104.678736   \n",
              "std           0.624948     110.713678             18.797261      50.022122   \n",
              "min           0.000000       1.000000              0.000000      -6.380000   \n",
              "25%           0.000000       9.000000              0.000000      73.000000   \n",
              "50%           0.000000      14.000000              0.000000      96.300000   \n",
              "75%           0.000000     229.000000              0.000000     127.800000   \n",
              "max          18.000000     535.000000            391.000000    5400.000000   \n",
              "\n",
              "       required_car_parking_spaces  total_of_special_requests  \n",
              "count                102896.000000              102896.000000  \n",
              "mean                      0.053034                   0.605466  \n",
              "std                       0.225357                   0.799336  \n",
              "min                       0.000000                   0.000000  \n",
              "25%                       0.000000                   0.000000  \n",
              "50%                       0.000000                   0.000000  \n",
              "75%                       0.000000                   1.000000  \n",
              "max                       3.000000                   5.000000  "
            ]
          },
          "execution_count": 15,
          "metadata": {},
          "output_type": "execute_result"
        }
      ],
      "source": [
        "df.describe()"
      ]
    },
    {
      "cell_type": "markdown",
      "source": [],
      "metadata": {
        "id": "fQ7MEon76nvk"
      }
    },
    {
      "cell_type": "code",
      "source": [],
      "metadata": {
        "id": "2WVKsq066mS_"
      },
      "execution_count": null,
      "outputs": []
    },
    {
      "cell_type": "code",
      "execution_count": null,
      "metadata": {
        "colab": {
          "base_uri": "https://localhost:8080/"
        },
        "id": "59o3LQlwEn3F",
        "outputId": "fcb3afef-9b16-423f-8667-78966e4b2daa"
      },
      "outputs": [
        {
          "data": {
            "text/plain": [
              "326"
            ]
          },
          "execution_count": 16,
          "metadata": {},
          "output_type": "execute_result"
        }
      ],
      "source": [
        "c=0\n",
        "for i in df.adults:\n",
        "  if(i==0):\n",
        "    c=c+1\n",
        "c #no of bookings done by people with age<18(0 adults) that is no adult is with them in the hotel bookings"
      ]
    },
    {
      "cell_type": "code",
      "execution_count": null,
      "metadata": {
        "colab": {
          "base_uri": "https://localhost:8080/"
        },
        "id": "JyLdHH6g0PG2",
        "outputId": "4a0bc41a-41ca-4ed0-ed93-6364a163f914"
      },
      "outputs": [
        {
          "name": "stdout",
          "output_type": "stream",
          "text": [
            "0\n"
          ]
        }
      ],
      "source": [
        "c=0\n",
        "l1=list(df.assigned_room_type)   \n",
        "for i in range(len(df.reserved_room_type)):\n",
        "    if df.reserved_room_type[i] not in l1:\n",
        "        c=c+1\n",
        "print(c)\n",
        "#Since there is no change in assigned room type and reserved room type we can delete one of the columns"
      ]
    },
    {
      "cell_type": "code",
      "execution_count": null,
      "metadata": {
        "id": "mDSeQMSDj_ZQ"
      },
      "outputs": [],
      "source": [
        "df.drop(columns=['reserved_room_type'],axis=1,inplace=True)"
      ]
    },
    {
      "cell_type": "markdown",
      "metadata": {
        "id": "cUMdFG2XUe5V"
      },
      "source": [
        "# Date time Transformation"
      ]
    },
    {
      "cell_type": "code",
      "execution_count": null,
      "metadata": {
        "colab": {
          "base_uri": "https://localhost:8080/"
        },
        "id": "Qcs97IyXNK6_",
        "outputId": "ddc9c582-9a84-4a0a-eb20-5ded9712afec"
      },
      "outputs": [
        {
          "name": "stdout",
          "output_type": "stream",
          "text": [
            "<class 'pandas.core.frame.DataFrame'>\n",
            "RangeIndex: 10000 entries, 0 to 9999\n",
            "Data columns (total 32 columns):\n",
            " #   Column                          Non-Null Count  Dtype  \n",
            "---  ------                          --------------  -----  \n",
            " 0   index                           10000 non-null  int64  \n",
            " 1   Hotel_type                      10000 non-null  object \n",
            " 2   is_canceled                     10000 non-null  int64  \n",
            " 3   lead_time                       10000 non-null  int64  \n",
            " 4   arrival_date_year               10000 non-null  int64  \n",
            " 5   arrival_date_month              10000 non-null  object \n",
            " 6   arrival_date_week_number        10000 non-null  int64  \n",
            " 7   arrival_date_day_of_month       10000 non-null  int64  \n",
            " 8   stays_in_weekend_nights         10000 non-null  int64  \n",
            " 9   stays_in_week_nights            10000 non-null  int64  \n",
            " 10  adults                          10000 non-null  int64  \n",
            " 11  children                        10000 non-null  float64\n",
            " 12  babies                          10000 non-null  int64  \n",
            " 13  meal                            10000 non-null  object \n",
            " 14  country                         10000 non-null  object \n",
            " 15  market_segment                  10000 non-null  object \n",
            " 16  distribution_channel            10000 non-null  object \n",
            " 17  is_repeated_guest               10000 non-null  int64  \n",
            " 18  previous_cancellations          10000 non-null  int64  \n",
            " 19  previous_bookings_not_canceled  10000 non-null  int64  \n",
            " 20  reserved_room_type              10000 non-null  object \n",
            " 21  assigned_room_type              10000 non-null  object \n",
            " 22  booking_changes                 10000 non-null  int64  \n",
            " 23  deposit_type                    10000 non-null  object \n",
            " 24  agent                           10000 non-null  float64\n",
            " 25  days_in_waiting_list            10000 non-null  int64  \n",
            " 26  customer_type                   10000 non-null  object \n",
            " 27  adr                             10000 non-null  float64\n",
            " 28  required_car_parking_spaces     10000 non-null  int64  \n",
            " 29  total_of_special_requests       10000 non-null  int64  \n",
            " 30  reservation_status              10000 non-null  object \n",
            " 31  reservation_status_date         10000 non-null  object \n",
            "dtypes: float64(3), int64(17), object(12)\n",
            "memory usage: 2.4+ MB\n"
          ]
        }
      ],
      "source": [
        "df1=df.iloc[:10000,:]\n",
        "'''taking first 10000 rows because the dataset is too big and \n",
        "it takes a lot of time to run the following cells'''\n",
        "df1.info()"
      ]
    },
    {
      "cell_type": "code",
      "execution_count": null,
      "metadata": {
        "colab": {
          "base_uri": "https://localhost:8080/"
        },
        "id": "SCLo235OOPIK",
        "outputId": "6cbfd930-26b4-4600-e422-89473c0f4360"
      },
      "outputs": [
        {
          "data": {
            "text/plain": [
              "0       July\n",
              "1       July\n",
              "2       July\n",
              "3       July\n",
              "4       July\n",
              "        ... \n",
              "9995     May\n",
              "9996     May\n",
              "9997     May\n",
              "9998     May\n",
              "9999     May\n",
              "Name: arrival_date_month, Length: 10000, dtype: object"
            ]
          },
          "execution_count": 19,
          "metadata": {},
          "output_type": "execute_result"
        }
      ],
      "source": [
        "df1[\"arrival_date_month\"]"
      ]
    },
    {
      "cell_type": "code",
      "execution_count": null,
      "metadata": {
        "id": "JjY7cL_3I-Iq"
      },
      "outputs": [],
      "source": [
        "d={\n",
        "    \"January\":1,\n",
        "   \"February\":2,\n",
        "   \"March\":3,\n",
        "   \"April\":4,\n",
        "   \"May\":5,\n",
        "   \"June\":6,\n",
        "   \"July\":7,\n",
        "   \"August\":8,\n",
        "   \"September\":9,\n",
        "   \"October\":10,\n",
        "   \"November\":11,\n",
        "   \"December\":12\n",
        "}\n"
      ]
    },
    {
      "cell_type": "code",
      "execution_count": null,
      "metadata": {
        "colab": {
          "base_uri": "https://localhost:8080/"
        },
        "id": "0Po5JVTBW__p",
        "outputId": "0900da60-2d3c-48ca-c88f-34728f5e50a5"
      },
      "outputs": [
        {
          "data": {
            "text/plain": [
              "July         1233\n",
              "August       1141\n",
              "April        1089\n",
              "September    1074\n",
              "October      1044\n",
              "May          1018\n",
              "March         722\n",
              "December      701\n",
              "February      669\n",
              "November      622\n",
              "June          409\n",
              "January       278\n",
              "Name: arrival_date_month, dtype: int64"
            ]
          },
          "execution_count": 25,
          "metadata": {},
          "output_type": "execute_result"
        }
      ],
      "source": [
        "df1[\"arrival_date_month\"].value_counts()"
      ]
    },
    {
      "cell_type": "code",
      "execution_count": null,
      "metadata": {
        "colab": {
          "base_uri": "https://localhost:8080/"
        },
        "id": "1xhpgni6W8DI",
        "outputId": "2d92b27a-5dac-48a8-8611-3bcbea4c4c3e"
      },
      "outputs": [
        {
          "name": "stderr",
          "output_type": "stream",
          "text": [
            "C:\\Users\\JARVIS\\AppData\\Local\\Temp\\ipykernel_9384\\2496193736.py:2: SettingWithCopyWarning: \n",
            "A value is trying to be set on a copy of a slice from a DataFrame\n",
            "\n",
            "See the caveats in the documentation: https://pandas.pydata.org/pandas-docs/stable/user_guide/indexing.html#returning-a-view-versus-a-copy\n",
            "  df1[\"arrival_date_month\"][i]=d[df1[\"arrival_date_month\"][i]]\n"
          ]
        }
      ],
      "source": [
        "for i in range(len(df1[\"arrival_date_month\"])):\n",
        "  df1[\"arrival_date_month\"][i]=d[df1[\"arrival_date_month\"][i]]\n",
        "  #converting month names to the respective month no. like january=1 Feb=2 and so on from the dict made above\n",
        "  #This cell will take almost 5 mins to run...this was the only reason why i took only 10k rows "
      ]
    },
    {
      "cell_type": "code",
      "execution_count": null,
      "metadata": {
        "colab": {
          "base_uri": "https://localhost:8080/"
        },
        "id": "8ynLa5MUpWKx",
        "outputId": "5ff4ba71-26d9-4fd9-c0ee-2223e15fc887"
      },
      "outputs": [
        {
          "data": {
            "text/plain": [
              "7     1233\n",
              "8     1141\n",
              "4     1089\n",
              "9     1074\n",
              "10    1044\n",
              "5     1018\n",
              "3      722\n",
              "12     701\n",
              "2      669\n",
              "11     622\n",
              "6      409\n",
              "1      278\n",
              "Name: arrival_date_month, dtype: int64"
            ]
          },
          "execution_count": 27,
          "metadata": {},
          "output_type": "execute_result"
        }
      ],
      "source": [
        "df1[\"arrival_date_month\"].value_counts()"
      ]
    },
    {
      "cell_type": "code",
      "execution_count": null,
      "metadata": {
        "colab": {
          "base_uri": "https://localhost:8080/"
        },
        "id": "tO0UrPGuqL47",
        "outputId": "7e663aa0-cc37-4537-8b9a-1eefb9cb4c73"
      },
      "outputs": [
        {
          "name": "stderr",
          "output_type": "stream",
          "text": [
            "C:\\Users\\JARVIS\\AppData\\Local\\Temp\\ipykernel_9384\\3829578356.py:1: SettingWithCopyWarning: \n",
            "A value is trying to be set on a copy of a slice from a DataFrame.\n",
            "Try using .loc[row_indexer,col_indexer] = value instead\n",
            "\n",
            "See the caveats in the documentation: https://pandas.pydata.org/pandas-docs/stable/user_guide/indexing.html#returning-a-view-versus-a-copy\n",
            "  df1[\"arrival_date_month\"]=df1['arrival_date_month'].astype(str).astype(int)#changing datatype to int\n"
          ]
        }
      ],
      "source": [
        "df1[\"arrival_date_month\"]=df1['arrival_date_month'].astype(str).astype(int)#changing datatype to int"
      ]
    },
    {
      "cell_type": "code",
      "execution_count": null,
      "metadata": {
        "colab": {
          "base_uri": "https://localhost:8080/"
        },
        "id": "JAdV182sKRjT",
        "outputId": "28c70e3e-3404-4a89-fe8c-6598d90d00b9"
      },
      "outputs": [
        {
          "data": {
            "text/plain": [
              "dtype('int32')"
            ]
          },
          "execution_count": 29,
          "metadata": {},
          "output_type": "execute_result"
        }
      ],
      "source": [
        "df1[\"arrival_date_month\"].dtype"
      ]
    },
    {
      "cell_type": "code",
      "execution_count": null,
      "metadata": {
        "colab": {
          "base_uri": "https://localhost:8080/"
        },
        "id": "vHleGKijXeLr",
        "outputId": "a8576b6f-b113-491a-bced-6912ed6f9271"
      },
      "outputs": [
        {
          "name": "stderr",
          "output_type": "stream",
          "text": [
            "C:\\Users\\JARVIS\\AppData\\Local\\Temp\\ipykernel_9384\\3068160964.py:2: SettingWithCopyWarning: \n",
            "A value is trying to be set on a copy of a slice from a DataFrame.\n",
            "Try using .loc[row_indexer,col_indexer] = value instead\n",
            "\n",
            "See the caveats in the documentation: https://pandas.pydata.org/pandas-docs/stable/user_guide/indexing.html#returning-a-view-versus-a-copy\n",
            "  df1['date'] = df1[cols].apply(lambda x: '-'.join(x.values.astype(str)), axis=\"columns\")\n"
          ]
        }
      ],
      "source": [
        "cols=[\"arrival_date_year\",\"arrival_date_month\",\"arrival_date_day_of_month\"]\n",
        "df1['date'] = df1[cols].apply(lambda x: '-'.join(x.values.astype(str)), axis=\"columns\")\n",
        "#this will combine year month and day into a single value seperated by hyphen into the new column date"
      ]
    },
    {
      "cell_type": "code",
      "execution_count": null,
      "metadata": {
        "colab": {
          "base_uri": "https://localhost:8080/"
        },
        "id": "ftP5Hv_8YONF",
        "outputId": "be143bc6-c487-44e3-ac29-eed394d996c4"
      },
      "outputs": [
        {
          "data": {
            "text/plain": [
              "0        2015-7-1\n",
              "1        2015-7-1\n",
              "2        2015-7-1\n",
              "3        2015-7-1\n",
              "4        2015-7-1\n",
              "          ...    \n",
              "9995    2017-5-28\n",
              "9996    2017-5-28\n",
              "9997    2017-5-28\n",
              "9998    2017-5-28\n",
              "9999    2017-5-28\n",
              "Name: date, Length: 10000, dtype: object"
            ]
          },
          "execution_count": 31,
          "metadata": {},
          "output_type": "execute_result"
        }
      ],
      "source": [
        "df1.date"
      ]
    },
    {
      "cell_type": "code",
      "execution_count": null,
      "metadata": {
        "colab": {
          "base_uri": "https://localhost:8080/"
        },
        "id": "PwI1TU7hYTgt",
        "outputId": "b5fa0dec-390d-42e3-8992-44b683136e0b"
      },
      "outputs": [
        {
          "name": "stderr",
          "output_type": "stream",
          "text": [
            "C:\\Users\\JARVIS\\AppData\\Local\\Temp\\ipykernel_9384\\311767242.py:1: SettingWithCopyWarning: \n",
            "A value is trying to be set on a copy of a slice from a DataFrame.\n",
            "Try using .loc[row_indexer,col_indexer] = value instead\n",
            "\n",
            "See the caveats in the documentation: https://pandas.pydata.org/pandas-docs/stable/user_guide/indexing.html#returning-a-view-versus-a-copy\n",
            "  df1.date=pd.to_datetime(df1['date'], errors='coerce')\n"
          ]
        }
      ],
      "source": [
        "df1.date=pd.to_datetime(df1['date'], errors='coerce')\n",
        "'''changing the date data type from object to datetime and errors='Coerce' means if any errors\n",
        " arises then it would convert them to null values'''"
      ]
    },
    {
      "cell_type": "code",
      "execution_count": null,
      "metadata": {
        "colab": {
          "base_uri": "https://localhost:8080/"
        },
        "id": "-wIDOlA9YfVW",
        "outputId": "f5e1d86f-4894-44bd-e2ad-d868594dc0c5"
      },
      "outputs": [
        {
          "data": {
            "text/plain": [
              "0"
            ]
          },
          "execution_count": 33,
          "metadata": {},
          "output_type": "execute_result"
        }
      ],
      "source": [
        "df1.date.isnull().sum()# all values have been converted successfully"
      ]
    },
    {
      "cell_type": "code",
      "execution_count": null,
      "metadata": {
        "colab": {
          "base_uri": "https://localhost:8080/"
        },
        "id": "lVDFjcW1MdV-",
        "outputId": "1717ca6a-f882-4b86-8fc0-2cbc96dc346c"
      },
      "outputs": [
        {
          "name": "stdout",
          "output_type": "stream",
          "text": [
            "<class 'pandas.core.frame.DataFrame'>\n",
            "RangeIndex: 10000 entries, 0 to 9999\n",
            "Data columns (total 33 columns):\n",
            " #   Column                          Non-Null Count  Dtype         \n",
            "---  ------                          --------------  -----         \n",
            " 0   index                           10000 non-null  int64         \n",
            " 1   Hotel_type                      10000 non-null  object        \n",
            " 2   is_canceled                     10000 non-null  int64         \n",
            " 3   lead_time                       10000 non-null  int64         \n",
            " 4   arrival_date_year               10000 non-null  int64         \n",
            " 5   arrival_date_month              10000 non-null  int32         \n",
            " 6   arrival_date_week_number        10000 non-null  int64         \n",
            " 7   arrival_date_day_of_month       10000 non-null  int64         \n",
            " 8   stays_in_weekend_nights         10000 non-null  int64         \n",
            " 9   stays_in_week_nights            10000 non-null  int64         \n",
            " 10  adults                          10000 non-null  int64         \n",
            " 11  children                        10000 non-null  float64       \n",
            " 12  babies                          10000 non-null  int64         \n",
            " 13  meal                            10000 non-null  object        \n",
            " 14  country                         10000 non-null  object        \n",
            " 15  market_segment                  10000 non-null  object        \n",
            " 16  distribution_channel            10000 non-null  object        \n",
            " 17  is_repeated_guest               10000 non-null  int64         \n",
            " 18  previous_cancellations          10000 non-null  int64         \n",
            " 19  previous_bookings_not_canceled  10000 non-null  int64         \n",
            " 20  reserved_room_type              10000 non-null  object        \n",
            " 21  assigned_room_type              10000 non-null  object        \n",
            " 22  booking_changes                 10000 non-null  int64         \n",
            " 23  deposit_type                    10000 non-null  object        \n",
            " 24  agent                           10000 non-null  float64       \n",
            " 25  days_in_waiting_list            10000 non-null  int64         \n",
            " 26  customer_type                   10000 non-null  object        \n",
            " 27  adr                             10000 non-null  float64       \n",
            " 28  required_car_parking_spaces     10000 non-null  int64         \n",
            " 29  total_of_special_requests       10000 non-null  int64         \n",
            " 30  reservation_status              10000 non-null  object        \n",
            " 31  reservation_status_date         10000 non-null  object        \n",
            " 32  date                            10000 non-null  datetime64[ns]\n",
            "dtypes: datetime64[ns](1), float64(3), int32(1), int64(17), object(11)\n",
            "memory usage: 2.5+ MB\n"
          ]
        }
      ],
      "source": [
        "df1.info()"
      ]
    },
    {
      "cell_type": "code",
      "execution_count": null,
      "metadata": {
        "colab": {
          "base_uri": "https://localhost:8080/"
        },
        "id": "tfhrM57-L5qW",
        "outputId": "7df11644-8768-4f0c-c2ea-9f73e0e37aa0"
      },
      "outputs": [
        {
          "name": "stderr",
          "output_type": "stream",
          "text": [
            "C:\\Users\\JARVIS\\AppData\\Local\\Temp\\ipykernel_9384\\2464312098.py:1: SettingWithCopyWarning: \n",
            "A value is trying to be set on a copy of a slice from a DataFrame\n",
            "\n",
            "See the caveats in the documentation: https://pandas.pydata.org/pandas-docs/stable/user_guide/indexing.html#returning-a-view-versus-a-copy\n",
            "  df1.drop(columns=[\"index\",\"arrival_date_year\",\"arrival_date_month\",\"arrival_date_day_of_month\"],axis=1,inplace=True)\n"
          ]
        },
        {
          "data": {
            "text/plain": [
              "Index(['Hotel_type', 'is_canceled', 'lead_time', 'arrival_date_week_number',\n",
              "       'stays_in_weekend_nights', 'stays_in_week_nights', 'adults', 'children',\n",
              "       'babies', 'meal', 'country', 'market_segment', 'distribution_channel',\n",
              "       'is_repeated_guest', 'previous_cancellations',\n",
              "       'previous_bookings_not_canceled', 'reserved_room_type',\n",
              "       'assigned_room_type', 'booking_changes', 'deposit_type', 'agent',\n",
              "       'days_in_waiting_list', 'customer_type', 'adr',\n",
              "       'required_car_parking_spaces', 'total_of_special_requests',\n",
              "       'reservation_status', 'reservation_status_date', 'date'],\n",
              "      dtype='object')"
            ]
          },
          "execution_count": 35,
          "metadata": {},
          "output_type": "execute_result"
        }
      ],
      "source": [
        "df1.drop(columns=[\"index\",\"arrival_date_year\",\"arrival_date_month\",\"arrival_date_day_of_month\"],axis=1,inplace=True)\n",
        "df1.columns\n",
        "#dropping the columns because we dont need them now since we have created the date column"
      ]
    },
    {
      "cell_type": "markdown",
      "metadata": {
        "id": "W_jV4Qcvj_ZT"
      },
      "source": [
        "# Graphs and Visualizations"
      ]
    },
    {
      "cell_type": "code",
      "execution_count": null,
      "metadata": {
        "id": "9PrXBKpmj_ZT",
        "outputId": "efe94fd7-b0a6-41a9-f394-887d1de3f855",
        "colab": {
          "base_uri": "https://localhost:8080/",
          "height": 741
        }
      },
      "outputs": [
        {
          "output_type": "execute_result",
          "data": {
            "text/plain": [
              "                                is_canceled  lead_time  arrival_date_year  \\\n",
              "is_canceled                        1.000000   0.293123           0.016660   \n",
              "lead_time                          0.293123   1.000000           0.040142   \n",
              "arrival_date_year                  0.016660   0.040142           1.000000   \n",
              "arrival_date_week_number           0.008148   0.126871          -0.540561   \n",
              "arrival_date_day_of_month         -0.006130   0.002268          -0.000221   \n",
              "stays_in_weekend_nights           -0.001791   0.085671           0.021497   \n",
              "stays_in_week_nights               0.024765   0.165799           0.030883   \n",
              "adults                             0.060017   0.119519           0.029635   \n",
              "children                           0.005048  -0.037622           0.054624   \n",
              "babies                            -0.032491  -0.020915          -0.013192   \n",
              "is_repeated_guest                 -0.084793  -0.124410           0.010341   \n",
              "previous_cancellations             0.110133   0.086042          -0.119822   \n",
              "previous_bookings_not_canceled    -0.057358  -0.073548           0.029218   \n",
              "booking_changes                   -0.144381   0.000149           0.030872   \n",
              "agent                             -0.083114  -0.069741           0.063457   \n",
              "company                           -0.020642   0.151464           0.259095   \n",
              "days_in_waiting_list               0.054186   0.170084          -0.056497   \n",
              "adr                                0.047557  -0.063077           0.197580   \n",
              "required_car_parking_spaces       -0.195498  -0.116451          -0.013684   \n",
              "total_of_special_requests         -0.234658  -0.095712           0.108531   \n",
              "\n",
              "                                arrival_date_week_number  \\\n",
              "is_canceled                                     0.008148   \n",
              "lead_time                                       0.126871   \n",
              "arrival_date_year                              -0.540561   \n",
              "arrival_date_week_number                        1.000000   \n",
              "arrival_date_day_of_month                       0.066809   \n",
              "stays_in_weekend_nights                         0.018208   \n",
              "stays_in_week_nights                            0.015558   \n",
              "adults                                          0.025909   \n",
              "children                                        0.005518   \n",
              "babies                                          0.010395   \n",
              "is_repeated_guest                              -0.030131   \n",
              "previous_cancellations                          0.035501   \n",
              "previous_bookings_not_canceled                 -0.020904   \n",
              "booking_changes                                 0.005508   \n",
              "agent                                          -0.031201   \n",
              "company                                        -0.076760   \n",
              "days_in_waiting_list                            0.022933   \n",
              "adr                                             0.075791   \n",
              "required_car_parking_spaces                     0.001920   \n",
              "total_of_special_requests                       0.026149   \n",
              "\n",
              "                                arrival_date_day_of_month  \\\n",
              "is_canceled                                     -0.006130   \n",
              "lead_time                                        0.002268   \n",
              "arrival_date_year                               -0.000221   \n",
              "arrival_date_week_number                         0.066809   \n",
              "arrival_date_day_of_month                        1.000000   \n",
              "stays_in_weekend_nights                         -0.016354   \n",
              "stays_in_week_nights                            -0.028174   \n",
              "adults                                          -0.001566   \n",
              "children                                         0.014544   \n",
              "babies                                          -0.000230   \n",
              "is_repeated_guest                               -0.006145   \n",
              "previous_cancellations                          -0.027011   \n",
              "previous_bookings_not_canceled                  -0.000300   \n",
              "booking_changes                                  0.010613   \n",
              "agent                                            0.001487   \n",
              "company                                          0.044858   \n",
              "days_in_waiting_list                             0.022728   \n",
              "adr                                              0.030245   \n",
              "required_car_parking_spaces                      0.008683   \n",
              "total_of_special_requests                        0.003062   \n",
              "\n",
              "                                stays_in_weekend_nights  stays_in_week_nights  \\\n",
              "is_canceled                                   -0.001791              0.024765   \n",
              "lead_time                                      0.085671              0.165799   \n",
              "arrival_date_year                              0.021497              0.030883   \n",
              "arrival_date_week_number                       0.018208              0.015558   \n",
              "arrival_date_day_of_month                     -0.016354             -0.028174   \n",
              "stays_in_weekend_nights                        1.000000              0.498969   \n",
              "stays_in_week_nights                           0.498969              1.000000   \n",
              "adults                                         0.091871              0.092976   \n",
              "children                                       0.045793              0.044203   \n",
              "babies                                         0.018483              0.020191   \n",
              "is_repeated_guest                             -0.087239             -0.097245   \n",
              "previous_cancellations                        -0.012775             -0.013992   \n",
              "previous_bookings_not_canceled                -0.042715             -0.048743   \n",
              "booking_changes                                0.063281              0.096209   \n",
              "agent                                          0.140739              0.182382   \n",
              "company                                        0.066749              0.182211   \n",
              "days_in_waiting_list                          -0.054151             -0.002020   \n",
              "adr                                            0.049342              0.065237   \n",
              "required_car_parking_spaces                   -0.018554             -0.024859   \n",
              "total_of_special_requests                      0.072671              0.068192   \n",
              "\n",
              "                                  adults  children    babies  \\\n",
              "is_canceled                     0.060017  0.005048 -0.032491   \n",
              "lead_time                       0.119519 -0.037622 -0.020915   \n",
              "arrival_date_year               0.029635  0.054624 -0.013192   \n",
              "arrival_date_week_number        0.025909  0.005518  0.010395   \n",
              "arrival_date_day_of_month      -0.001566  0.014544 -0.000230   \n",
              "stays_in_weekend_nights         0.091871  0.045793  0.018483   \n",
              "stays_in_week_nights            0.092976  0.044203  0.020191   \n",
              "adults                          1.000000  0.030447  0.018146   \n",
              "children                        0.030447  1.000000  0.024030   \n",
              "babies                          0.018146  0.024030  1.000000   \n",
              "is_repeated_guest              -0.146426 -0.032859 -0.008943   \n",
              "previous_cancellations         -0.006738 -0.024730 -0.007501   \n",
              "previous_bookings_not_canceled -0.107983 -0.021072 -0.006550   \n",
              "booking_changes                -0.051673  0.048949  0.083440   \n",
              "agent                          -0.035594  0.041066  0.036184   \n",
              "company                         0.207793  0.030931  0.019206   \n",
              "days_in_waiting_list           -0.008283 -0.033273 -0.010621   \n",
              "adr                             0.230641  0.324854  0.029186   \n",
              "required_car_parking_spaces     0.014785  0.056253  0.037383   \n",
              "total_of_special_requests       0.122884  0.081745  0.097889   \n",
              "\n",
              "                                is_repeated_guest  previous_cancellations  \\\n",
              "is_canceled                             -0.084793                0.110133   \n",
              "lead_time                               -0.124410                0.086042   \n",
              "arrival_date_year                        0.010341               -0.119822   \n",
              "arrival_date_week_number                -0.030131                0.035501   \n",
              "arrival_date_day_of_month               -0.006145               -0.027011   \n",
              "stays_in_weekend_nights                 -0.087239               -0.012775   \n",
              "stays_in_week_nights                    -0.097245               -0.013992   \n",
              "adults                                  -0.146426               -0.006738   \n",
              "children                                -0.032859               -0.024730   \n",
              "babies                                  -0.008943               -0.007501   \n",
              "is_repeated_guest                        1.000000                0.082293   \n",
              "previous_cancellations                   0.082293                1.000000   \n",
              "previous_bookings_not_canceled           0.418056                0.152728   \n",
              "booking_changes                          0.012092               -0.026993   \n",
              "agent                                    0.031527               -0.012488   \n",
              "company                                 -0.244586               -0.184574   \n",
              "days_in_waiting_list                    -0.022235                0.005929   \n",
              "adr                                     -0.134314               -0.065646   \n",
              "required_car_parking_spaces              0.077090               -0.018492   \n",
              "total_of_special_requests                0.013050               -0.048384   \n",
              "\n",
              "                                previous_bookings_not_canceled  \\\n",
              "is_canceled                                          -0.057358   \n",
              "lead_time                                            -0.073548   \n",
              "arrival_date_year                                     0.029218   \n",
              "arrival_date_week_number                             -0.020904   \n",
              "arrival_date_day_of_month                            -0.000300   \n",
              "stays_in_weekend_nights                              -0.042715   \n",
              "stays_in_week_nights                                 -0.048743   \n",
              "adults                                               -0.107983   \n",
              "children                                             -0.021072   \n",
              "babies                                               -0.006550   \n",
              "is_repeated_guest                                     0.418056   \n",
              "previous_cancellations                                0.152728   \n",
              "previous_bookings_not_canceled                        1.000000   \n",
              "booking_changes                                       0.011608   \n",
              "agent                                                 0.023252   \n",
              "company                                              -0.208557   \n",
              "days_in_waiting_list                                 -0.009397   \n",
              "adr                                                  -0.072144   \n",
              "required_car_parking_spaces                           0.047653   \n",
              "total_of_special_requests                             0.037824   \n",
              "\n",
              "                                booking_changes     agent   company  \\\n",
              "is_canceled                           -0.144381 -0.083114 -0.020642   \n",
              "lead_time                              0.000149 -0.069741  0.151464   \n",
              "arrival_date_year                      0.030872  0.063457  0.259095   \n",
              "arrival_date_week_number               0.005508 -0.031201 -0.076760   \n",
              "arrival_date_day_of_month              0.010613  0.001487  0.044858   \n",
              "stays_in_weekend_nights                0.063281  0.140739  0.066749   \n",
              "stays_in_week_nights                   0.096209  0.182382  0.182211   \n",
              "adults                                -0.051673 -0.035594  0.207793   \n",
              "children                               0.048949  0.041066  0.030931   \n",
              "babies                                 0.083440  0.036184  0.019206   \n",
              "is_repeated_guest                      0.012092  0.031527 -0.244586   \n",
              "previous_cancellations                -0.026993 -0.012488 -0.184574   \n",
              "previous_bookings_not_canceled         0.011608  0.023252 -0.208557   \n",
              "booking_changes                        1.000000  0.067010  0.122098   \n",
              "agent                                  0.067010  1.000000  0.350746   \n",
              "company                                0.122098  0.350746  1.000000   \n",
              "days_in_waiting_list                  -0.011634 -0.055151  0.000411   \n",
              "adr                                    0.019618 -0.024695  0.086376   \n",
              "required_car_parking_spaces            0.065620  0.177353 -0.012916   \n",
              "total_of_special_requests              0.052833  0.034162 -0.098558   \n",
              "\n",
              "                                days_in_waiting_list       adr  \\\n",
              "is_canceled                                 0.054186  0.047557   \n",
              "lead_time                                   0.170084 -0.063077   \n",
              "arrival_date_year                          -0.056497  0.197580   \n",
              "arrival_date_week_number                    0.022933  0.075791   \n",
              "arrival_date_day_of_month                   0.022728  0.030245   \n",
              "stays_in_weekend_nights                    -0.054151  0.049342   \n",
              "stays_in_week_nights                       -0.002020  0.065237   \n",
              "adults                                     -0.008283  0.230641   \n",
              "children                                   -0.033273  0.324854   \n",
              "babies                                     -0.010621  0.029186   \n",
              "is_repeated_guest                          -0.022235 -0.134314   \n",
              "previous_cancellations                      0.005929 -0.065646   \n",
              "previous_bookings_not_canceled             -0.009397 -0.072144   \n",
              "booking_changes                            -0.011634  0.019618   \n",
              "agent                                      -0.055151 -0.024695   \n",
              "company                                     0.000411  0.086376   \n",
              "days_in_waiting_list                        1.000000 -0.040756   \n",
              "adr                                        -0.040756  1.000000   \n",
              "required_car_parking_spaces                -0.030600  0.056628   \n",
              "total_of_special_requests                  -0.082730  0.172185   \n",
              "\n",
              "                                required_car_parking_spaces  \\\n",
              "is_canceled                                       -0.195498   \n",
              "lead_time                                         -0.116451   \n",
              "arrival_date_year                                 -0.013684   \n",
              "arrival_date_week_number                           0.001920   \n",
              "arrival_date_day_of_month                          0.008683   \n",
              "stays_in_weekend_nights                           -0.018554   \n",
              "stays_in_week_nights                              -0.024859   \n",
              "adults                                             0.014785   \n",
              "children                                           0.056253   \n",
              "babies                                             0.037383   \n",
              "is_repeated_guest                                  0.077090   \n",
              "previous_cancellations                            -0.018492   \n",
              "previous_bookings_not_canceled                     0.047653   \n",
              "booking_changes                                    0.065620   \n",
              "agent                                              0.177353   \n",
              "company                                           -0.012916   \n",
              "days_in_waiting_list                              -0.030600   \n",
              "adr                                                0.056628   \n",
              "required_car_parking_spaces                        1.000000   \n",
              "total_of_special_requests                          0.082626   \n",
              "\n",
              "                                total_of_special_requests  \n",
              "is_canceled                                     -0.234658  \n",
              "lead_time                                       -0.095712  \n",
              "arrival_date_year                                0.108531  \n",
              "arrival_date_week_number                         0.026149  \n",
              "arrival_date_day_of_month                        0.003062  \n",
              "stays_in_weekend_nights                          0.072671  \n",
              "stays_in_week_nights                             0.068192  \n",
              "adults                                           0.122884  \n",
              "children                                         0.081745  \n",
              "babies                                           0.097889  \n",
              "is_repeated_guest                                0.013050  \n",
              "previous_cancellations                          -0.048384  \n",
              "previous_bookings_not_canceled                   0.037824  \n",
              "booking_changes                                  0.052833  \n",
              "agent                                            0.034162  \n",
              "company                                         -0.098558  \n",
              "days_in_waiting_list                            -0.082730  \n",
              "adr                                              0.172185  \n",
              "required_car_parking_spaces                      0.082626  \n",
              "total_of_special_requests                        1.000000  "
            ],
            "text/html": [
              "\n",
              "  <div id=\"df-a950c3de-d370-4484-96e6-41d811c0cf50\">\n",
              "    <div class=\"colab-df-container\">\n",
              "      <div>\n",
              "<style scoped>\n",
              "    .dataframe tbody tr th:only-of-type {\n",
              "        vertical-align: middle;\n",
              "    }\n",
              "\n",
              "    .dataframe tbody tr th {\n",
              "        vertical-align: top;\n",
              "    }\n",
              "\n",
              "    .dataframe thead th {\n",
              "        text-align: right;\n",
              "    }\n",
              "</style>\n",
              "<table border=\"1\" class=\"dataframe\">\n",
              "  <thead>\n",
              "    <tr style=\"text-align: right;\">\n",
              "      <th></th>\n",
              "      <th>is_canceled</th>\n",
              "      <th>lead_time</th>\n",
              "      <th>arrival_date_year</th>\n",
              "      <th>arrival_date_week_number</th>\n",
              "      <th>arrival_date_day_of_month</th>\n",
              "      <th>stays_in_weekend_nights</th>\n",
              "      <th>stays_in_week_nights</th>\n",
              "      <th>adults</th>\n",
              "      <th>children</th>\n",
              "      <th>babies</th>\n",
              "      <th>is_repeated_guest</th>\n",
              "      <th>previous_cancellations</th>\n",
              "      <th>previous_bookings_not_canceled</th>\n",
              "      <th>booking_changes</th>\n",
              "      <th>agent</th>\n",
              "      <th>company</th>\n",
              "      <th>days_in_waiting_list</th>\n",
              "      <th>adr</th>\n",
              "      <th>required_car_parking_spaces</th>\n",
              "      <th>total_of_special_requests</th>\n",
              "    </tr>\n",
              "  </thead>\n",
              "  <tbody>\n",
              "    <tr>\n",
              "      <th>is_canceled</th>\n",
              "      <td>1.000000</td>\n",
              "      <td>0.293123</td>\n",
              "      <td>0.016660</td>\n",
              "      <td>0.008148</td>\n",
              "      <td>-0.006130</td>\n",
              "      <td>-0.001791</td>\n",
              "      <td>0.024765</td>\n",
              "      <td>0.060017</td>\n",
              "      <td>0.005048</td>\n",
              "      <td>-0.032491</td>\n",
              "      <td>-0.084793</td>\n",
              "      <td>0.110133</td>\n",
              "      <td>-0.057358</td>\n",
              "      <td>-0.144381</td>\n",
              "      <td>-0.083114</td>\n",
              "      <td>-0.020642</td>\n",
              "      <td>0.054186</td>\n",
              "      <td>0.047557</td>\n",
              "      <td>-0.195498</td>\n",
              "      <td>-0.234658</td>\n",
              "    </tr>\n",
              "    <tr>\n",
              "      <th>lead_time</th>\n",
              "      <td>0.293123</td>\n",
              "      <td>1.000000</td>\n",
              "      <td>0.040142</td>\n",
              "      <td>0.126871</td>\n",
              "      <td>0.002268</td>\n",
              "      <td>0.085671</td>\n",
              "      <td>0.165799</td>\n",
              "      <td>0.119519</td>\n",
              "      <td>-0.037622</td>\n",
              "      <td>-0.020915</td>\n",
              "      <td>-0.124410</td>\n",
              "      <td>0.086042</td>\n",
              "      <td>-0.073548</td>\n",
              "      <td>0.000149</td>\n",
              "      <td>-0.069741</td>\n",
              "      <td>0.151464</td>\n",
              "      <td>0.170084</td>\n",
              "      <td>-0.063077</td>\n",
              "      <td>-0.116451</td>\n",
              "      <td>-0.095712</td>\n",
              "    </tr>\n",
              "    <tr>\n",
              "      <th>arrival_date_year</th>\n",
              "      <td>0.016660</td>\n",
              "      <td>0.040142</td>\n",
              "      <td>1.000000</td>\n",
              "      <td>-0.540561</td>\n",
              "      <td>-0.000221</td>\n",
              "      <td>0.021497</td>\n",
              "      <td>0.030883</td>\n",
              "      <td>0.029635</td>\n",
              "      <td>0.054624</td>\n",
              "      <td>-0.013192</td>\n",
              "      <td>0.010341</td>\n",
              "      <td>-0.119822</td>\n",
              "      <td>0.029218</td>\n",
              "      <td>0.030872</td>\n",
              "      <td>0.063457</td>\n",
              "      <td>0.259095</td>\n",
              "      <td>-0.056497</td>\n",
              "      <td>0.197580</td>\n",
              "      <td>-0.013684</td>\n",
              "      <td>0.108531</td>\n",
              "    </tr>\n",
              "    <tr>\n",
              "      <th>arrival_date_week_number</th>\n",
              "      <td>0.008148</td>\n",
              "      <td>0.126871</td>\n",
              "      <td>-0.540561</td>\n",
              "      <td>1.000000</td>\n",
              "      <td>0.066809</td>\n",
              "      <td>0.018208</td>\n",
              "      <td>0.015558</td>\n",
              "      <td>0.025909</td>\n",
              "      <td>0.005518</td>\n",
              "      <td>0.010395</td>\n",
              "      <td>-0.030131</td>\n",
              "      <td>0.035501</td>\n",
              "      <td>-0.020904</td>\n",
              "      <td>0.005508</td>\n",
              "      <td>-0.031201</td>\n",
              "      <td>-0.076760</td>\n",
              "      <td>0.022933</td>\n",
              "      <td>0.075791</td>\n",
              "      <td>0.001920</td>\n",
              "      <td>0.026149</td>\n",
              "    </tr>\n",
              "    <tr>\n",
              "      <th>arrival_date_day_of_month</th>\n",
              "      <td>-0.006130</td>\n",
              "      <td>0.002268</td>\n",
              "      <td>-0.000221</td>\n",
              "      <td>0.066809</td>\n",
              "      <td>1.000000</td>\n",
              "      <td>-0.016354</td>\n",
              "      <td>-0.028174</td>\n",
              "      <td>-0.001566</td>\n",
              "      <td>0.014544</td>\n",
              "      <td>-0.000230</td>\n",
              "      <td>-0.006145</td>\n",
              "      <td>-0.027011</td>\n",
              "      <td>-0.000300</td>\n",
              "      <td>0.010613</td>\n",
              "      <td>0.001487</td>\n",
              "      <td>0.044858</td>\n",
              "      <td>0.022728</td>\n",
              "      <td>0.030245</td>\n",
              "      <td>0.008683</td>\n",
              "      <td>0.003062</td>\n",
              "    </tr>\n",
              "    <tr>\n",
              "      <th>stays_in_weekend_nights</th>\n",
              "      <td>-0.001791</td>\n",
              "      <td>0.085671</td>\n",
              "      <td>0.021497</td>\n",
              "      <td>0.018208</td>\n",
              "      <td>-0.016354</td>\n",
              "      <td>1.000000</td>\n",
              "      <td>0.498969</td>\n",
              "      <td>0.091871</td>\n",
              "      <td>0.045793</td>\n",
              "      <td>0.018483</td>\n",
              "      <td>-0.087239</td>\n",
              "      <td>-0.012775</td>\n",
              "      <td>-0.042715</td>\n",
              "      <td>0.063281</td>\n",
              "      <td>0.140739</td>\n",
              "      <td>0.066749</td>\n",
              "      <td>-0.054151</td>\n",
              "      <td>0.049342</td>\n",
              "      <td>-0.018554</td>\n",
              "      <td>0.072671</td>\n",
              "    </tr>\n",
              "    <tr>\n",
              "      <th>stays_in_week_nights</th>\n",
              "      <td>0.024765</td>\n",
              "      <td>0.165799</td>\n",
              "      <td>0.030883</td>\n",
              "      <td>0.015558</td>\n",
              "      <td>-0.028174</td>\n",
              "      <td>0.498969</td>\n",
              "      <td>1.000000</td>\n",
              "      <td>0.092976</td>\n",
              "      <td>0.044203</td>\n",
              "      <td>0.020191</td>\n",
              "      <td>-0.097245</td>\n",
              "      <td>-0.013992</td>\n",
              "      <td>-0.048743</td>\n",
              "      <td>0.096209</td>\n",
              "      <td>0.182382</td>\n",
              "      <td>0.182211</td>\n",
              "      <td>-0.002020</td>\n",
              "      <td>0.065237</td>\n",
              "      <td>-0.024859</td>\n",
              "      <td>0.068192</td>\n",
              "    </tr>\n",
              "    <tr>\n",
              "      <th>adults</th>\n",
              "      <td>0.060017</td>\n",
              "      <td>0.119519</td>\n",
              "      <td>0.029635</td>\n",
              "      <td>0.025909</td>\n",
              "      <td>-0.001566</td>\n",
              "      <td>0.091871</td>\n",
              "      <td>0.092976</td>\n",
              "      <td>1.000000</td>\n",
              "      <td>0.030447</td>\n",
              "      <td>0.018146</td>\n",
              "      <td>-0.146426</td>\n",
              "      <td>-0.006738</td>\n",
              "      <td>-0.107983</td>\n",
              "      <td>-0.051673</td>\n",
              "      <td>-0.035594</td>\n",
              "      <td>0.207793</td>\n",
              "      <td>-0.008283</td>\n",
              "      <td>0.230641</td>\n",
              "      <td>0.014785</td>\n",
              "      <td>0.122884</td>\n",
              "    </tr>\n",
              "    <tr>\n",
              "      <th>children</th>\n",
              "      <td>0.005048</td>\n",
              "      <td>-0.037622</td>\n",
              "      <td>0.054624</td>\n",
              "      <td>0.005518</td>\n",
              "      <td>0.014544</td>\n",
              "      <td>0.045793</td>\n",
              "      <td>0.044203</td>\n",
              "      <td>0.030447</td>\n",
              "      <td>1.000000</td>\n",
              "      <td>0.024030</td>\n",
              "      <td>-0.032859</td>\n",
              "      <td>-0.024730</td>\n",
              "      <td>-0.021072</td>\n",
              "      <td>0.048949</td>\n",
              "      <td>0.041066</td>\n",
              "      <td>0.030931</td>\n",
              "      <td>-0.033273</td>\n",
              "      <td>0.324854</td>\n",
              "      <td>0.056253</td>\n",
              "      <td>0.081745</td>\n",
              "    </tr>\n",
              "    <tr>\n",
              "      <th>babies</th>\n",
              "      <td>-0.032491</td>\n",
              "      <td>-0.020915</td>\n",
              "      <td>-0.013192</td>\n",
              "      <td>0.010395</td>\n",
              "      <td>-0.000230</td>\n",
              "      <td>0.018483</td>\n",
              "      <td>0.020191</td>\n",
              "      <td>0.018146</td>\n",
              "      <td>0.024030</td>\n",
              "      <td>1.000000</td>\n",
              "      <td>-0.008943</td>\n",
              "      <td>-0.007501</td>\n",
              "      <td>-0.006550</td>\n",
              "      <td>0.083440</td>\n",
              "      <td>0.036184</td>\n",
              "      <td>0.019206</td>\n",
              "      <td>-0.010621</td>\n",
              "      <td>0.029186</td>\n",
              "      <td>0.037383</td>\n",
              "      <td>0.097889</td>\n",
              "    </tr>\n",
              "    <tr>\n",
              "      <th>is_repeated_guest</th>\n",
              "      <td>-0.084793</td>\n",
              "      <td>-0.124410</td>\n",
              "      <td>0.010341</td>\n",
              "      <td>-0.030131</td>\n",
              "      <td>-0.006145</td>\n",
              "      <td>-0.087239</td>\n",
              "      <td>-0.097245</td>\n",
              "      <td>-0.146426</td>\n",
              "      <td>-0.032859</td>\n",
              "      <td>-0.008943</td>\n",
              "      <td>1.000000</td>\n",
              "      <td>0.082293</td>\n",
              "      <td>0.418056</td>\n",
              "      <td>0.012092</td>\n",
              "      <td>0.031527</td>\n",
              "      <td>-0.244586</td>\n",
              "      <td>-0.022235</td>\n",
              "      <td>-0.134314</td>\n",
              "      <td>0.077090</td>\n",
              "      <td>0.013050</td>\n",
              "    </tr>\n",
              "    <tr>\n",
              "      <th>previous_cancellations</th>\n",
              "      <td>0.110133</td>\n",
              "      <td>0.086042</td>\n",
              "      <td>-0.119822</td>\n",
              "      <td>0.035501</td>\n",
              "      <td>-0.027011</td>\n",
              "      <td>-0.012775</td>\n",
              "      <td>-0.013992</td>\n",
              "      <td>-0.006738</td>\n",
              "      <td>-0.024730</td>\n",
              "      <td>-0.007501</td>\n",
              "      <td>0.082293</td>\n",
              "      <td>1.000000</td>\n",
              "      <td>0.152728</td>\n",
              "      <td>-0.026993</td>\n",
              "      <td>-0.012488</td>\n",
              "      <td>-0.184574</td>\n",
              "      <td>0.005929</td>\n",
              "      <td>-0.065646</td>\n",
              "      <td>-0.018492</td>\n",
              "      <td>-0.048384</td>\n",
              "    </tr>\n",
              "    <tr>\n",
              "      <th>previous_bookings_not_canceled</th>\n",
              "      <td>-0.057358</td>\n",
              "      <td>-0.073548</td>\n",
              "      <td>0.029218</td>\n",
              "      <td>-0.020904</td>\n",
              "      <td>-0.000300</td>\n",
              "      <td>-0.042715</td>\n",
              "      <td>-0.048743</td>\n",
              "      <td>-0.107983</td>\n",
              "      <td>-0.021072</td>\n",
              "      <td>-0.006550</td>\n",
              "      <td>0.418056</td>\n",
              "      <td>0.152728</td>\n",
              "      <td>1.000000</td>\n",
              "      <td>0.011608</td>\n",
              "      <td>0.023252</td>\n",
              "      <td>-0.208557</td>\n",
              "      <td>-0.009397</td>\n",
              "      <td>-0.072144</td>\n",
              "      <td>0.047653</td>\n",
              "      <td>0.037824</td>\n",
              "    </tr>\n",
              "    <tr>\n",
              "      <th>booking_changes</th>\n",
              "      <td>-0.144381</td>\n",
              "      <td>0.000149</td>\n",
              "      <td>0.030872</td>\n",
              "      <td>0.005508</td>\n",
              "      <td>0.010613</td>\n",
              "      <td>0.063281</td>\n",
              "      <td>0.096209</td>\n",
              "      <td>-0.051673</td>\n",
              "      <td>0.048949</td>\n",
              "      <td>0.083440</td>\n",
              "      <td>0.012092</td>\n",
              "      <td>-0.026993</td>\n",
              "      <td>0.011608</td>\n",
              "      <td>1.000000</td>\n",
              "      <td>0.067010</td>\n",
              "      <td>0.122098</td>\n",
              "      <td>-0.011634</td>\n",
              "      <td>0.019618</td>\n",
              "      <td>0.065620</td>\n",
              "      <td>0.052833</td>\n",
              "    </tr>\n",
              "    <tr>\n",
              "      <th>agent</th>\n",
              "      <td>-0.083114</td>\n",
              "      <td>-0.069741</td>\n",
              "      <td>0.063457</td>\n",
              "      <td>-0.031201</td>\n",
              "      <td>0.001487</td>\n",
              "      <td>0.140739</td>\n",
              "      <td>0.182382</td>\n",
              "      <td>-0.035594</td>\n",
              "      <td>0.041066</td>\n",
              "      <td>0.036184</td>\n",
              "      <td>0.031527</td>\n",
              "      <td>-0.012488</td>\n",
              "      <td>0.023252</td>\n",
              "      <td>0.067010</td>\n",
              "      <td>1.000000</td>\n",
              "      <td>0.350746</td>\n",
              "      <td>-0.055151</td>\n",
              "      <td>-0.024695</td>\n",
              "      <td>0.177353</td>\n",
              "      <td>0.034162</td>\n",
              "    </tr>\n",
              "    <tr>\n",
              "      <th>company</th>\n",
              "      <td>-0.020642</td>\n",
              "      <td>0.151464</td>\n",
              "      <td>0.259095</td>\n",
              "      <td>-0.076760</td>\n",
              "      <td>0.044858</td>\n",
              "      <td>0.066749</td>\n",
              "      <td>0.182211</td>\n",
              "      <td>0.207793</td>\n",
              "      <td>0.030931</td>\n",
              "      <td>0.019206</td>\n",
              "      <td>-0.244586</td>\n",
              "      <td>-0.184574</td>\n",
              "      <td>-0.208557</td>\n",
              "      <td>0.122098</td>\n",
              "      <td>0.350746</td>\n",
              "      <td>1.000000</td>\n",
              "      <td>0.000411</td>\n",
              "      <td>0.086376</td>\n",
              "      <td>-0.012916</td>\n",
              "      <td>-0.098558</td>\n",
              "    </tr>\n",
              "    <tr>\n",
              "      <th>days_in_waiting_list</th>\n",
              "      <td>0.054186</td>\n",
              "      <td>0.170084</td>\n",
              "      <td>-0.056497</td>\n",
              "      <td>0.022933</td>\n",
              "      <td>0.022728</td>\n",
              "      <td>-0.054151</td>\n",
              "      <td>-0.002020</td>\n",
              "      <td>-0.008283</td>\n",
              "      <td>-0.033273</td>\n",
              "      <td>-0.010621</td>\n",
              "      <td>-0.022235</td>\n",
              "      <td>0.005929</td>\n",
              "      <td>-0.009397</td>\n",
              "      <td>-0.011634</td>\n",
              "      <td>-0.055151</td>\n",
              "      <td>0.000411</td>\n",
              "      <td>1.000000</td>\n",
              "      <td>-0.040756</td>\n",
              "      <td>-0.030600</td>\n",
              "      <td>-0.082730</td>\n",
              "    </tr>\n",
              "    <tr>\n",
              "      <th>adr</th>\n",
              "      <td>0.047557</td>\n",
              "      <td>-0.063077</td>\n",
              "      <td>0.197580</td>\n",
              "      <td>0.075791</td>\n",
              "      <td>0.030245</td>\n",
              "      <td>0.049342</td>\n",
              "      <td>0.065237</td>\n",
              "      <td>0.230641</td>\n",
              "      <td>0.324854</td>\n",
              "      <td>0.029186</td>\n",
              "      <td>-0.134314</td>\n",
              "      <td>-0.065646</td>\n",
              "      <td>-0.072144</td>\n",
              "      <td>0.019618</td>\n",
              "      <td>-0.024695</td>\n",
              "      <td>0.086376</td>\n",
              "      <td>-0.040756</td>\n",
              "      <td>1.000000</td>\n",
              "      <td>0.056628</td>\n",
              "      <td>0.172185</td>\n",
              "    </tr>\n",
              "    <tr>\n",
              "      <th>required_car_parking_spaces</th>\n",
              "      <td>-0.195498</td>\n",
              "      <td>-0.116451</td>\n",
              "      <td>-0.013684</td>\n",
              "      <td>0.001920</td>\n",
              "      <td>0.008683</td>\n",
              "      <td>-0.018554</td>\n",
              "      <td>-0.024859</td>\n",
              "      <td>0.014785</td>\n",
              "      <td>0.056253</td>\n",
              "      <td>0.037383</td>\n",
              "      <td>0.077090</td>\n",
              "      <td>-0.018492</td>\n",
              "      <td>0.047653</td>\n",
              "      <td>0.065620</td>\n",
              "      <td>0.177353</td>\n",
              "      <td>-0.012916</td>\n",
              "      <td>-0.030600</td>\n",
              "      <td>0.056628</td>\n",
              "      <td>1.000000</td>\n",
              "      <td>0.082626</td>\n",
              "    </tr>\n",
              "    <tr>\n",
              "      <th>total_of_special_requests</th>\n",
              "      <td>-0.234658</td>\n",
              "      <td>-0.095712</td>\n",
              "      <td>0.108531</td>\n",
              "      <td>0.026149</td>\n",
              "      <td>0.003062</td>\n",
              "      <td>0.072671</td>\n",
              "      <td>0.068192</td>\n",
              "      <td>0.122884</td>\n",
              "      <td>0.081745</td>\n",
              "      <td>0.097889</td>\n",
              "      <td>0.013050</td>\n",
              "      <td>-0.048384</td>\n",
              "      <td>0.037824</td>\n",
              "      <td>0.052833</td>\n",
              "      <td>0.034162</td>\n",
              "      <td>-0.098558</td>\n",
              "      <td>-0.082730</td>\n",
              "      <td>0.172185</td>\n",
              "      <td>0.082626</td>\n",
              "      <td>1.000000</td>\n",
              "    </tr>\n",
              "  </tbody>\n",
              "</table>\n",
              "</div>\n",
              "      <button class=\"colab-df-convert\" onclick=\"convertToInteractive('df-a950c3de-d370-4484-96e6-41d811c0cf50')\"\n",
              "              title=\"Convert this dataframe to an interactive table.\"\n",
              "              style=\"display:none;\">\n",
              "        \n",
              "  <svg xmlns=\"http://www.w3.org/2000/svg\" height=\"24px\"viewBox=\"0 0 24 24\"\n",
              "       width=\"24px\">\n",
              "    <path d=\"M0 0h24v24H0V0z\" fill=\"none\"/>\n",
              "    <path d=\"M18.56 5.44l.94 2.06.94-2.06 2.06-.94-2.06-.94-.94-2.06-.94 2.06-2.06.94zm-11 1L8.5 8.5l.94-2.06 2.06-.94-2.06-.94L8.5 2.5l-.94 2.06-2.06.94zm10 10l.94 2.06.94-2.06 2.06-.94-2.06-.94-.94-2.06-.94 2.06-2.06.94z\"/><path d=\"M17.41 7.96l-1.37-1.37c-.4-.4-.92-.59-1.43-.59-.52 0-1.04.2-1.43.59L10.3 9.45l-7.72 7.72c-.78.78-.78 2.05 0 2.83L4 21.41c.39.39.9.59 1.41.59.51 0 1.02-.2 1.41-.59l7.78-7.78 2.81-2.81c.8-.78.8-2.07 0-2.86zM5.41 20L4 18.59l7.72-7.72 1.47 1.35L5.41 20z\"/>\n",
              "  </svg>\n",
              "      </button>\n",
              "      \n",
              "  <style>\n",
              "    .colab-df-container {\n",
              "      display:flex;\n",
              "      flex-wrap:wrap;\n",
              "      gap: 12px;\n",
              "    }\n",
              "\n",
              "    .colab-df-convert {\n",
              "      background-color: #E8F0FE;\n",
              "      border: none;\n",
              "      border-radius: 50%;\n",
              "      cursor: pointer;\n",
              "      display: none;\n",
              "      fill: #1967D2;\n",
              "      height: 32px;\n",
              "      padding: 0 0 0 0;\n",
              "      width: 32px;\n",
              "    }\n",
              "\n",
              "    .colab-df-convert:hover {\n",
              "      background-color: #E2EBFA;\n",
              "      box-shadow: 0px 1px 2px rgba(60, 64, 67, 0.3), 0px 1px 3px 1px rgba(60, 64, 67, 0.15);\n",
              "      fill: #174EA6;\n",
              "    }\n",
              "\n",
              "    [theme=dark] .colab-df-convert {\n",
              "      background-color: #3B4455;\n",
              "      fill: #D2E3FC;\n",
              "    }\n",
              "\n",
              "    [theme=dark] .colab-df-convert:hover {\n",
              "      background-color: #434B5C;\n",
              "      box-shadow: 0px 1px 3px 1px rgba(0, 0, 0, 0.15);\n",
              "      filter: drop-shadow(0px 1px 2px rgba(0, 0, 0, 0.3));\n",
              "      fill: #FFFFFF;\n",
              "    }\n",
              "  </style>\n",
              "\n",
              "      <script>\n",
              "        const buttonEl =\n",
              "          document.querySelector('#df-a950c3de-d370-4484-96e6-41d811c0cf50 button.colab-df-convert');\n",
              "        buttonEl.style.display =\n",
              "          google.colab.kernel.accessAllowed ? 'block' : 'none';\n",
              "\n",
              "        async function convertToInteractive(key) {\n",
              "          const element = document.querySelector('#df-a950c3de-d370-4484-96e6-41d811c0cf50');\n",
              "          const dataTable =\n",
              "            await google.colab.kernel.invokeFunction('convertToInteractive',\n",
              "                                                     [key], {});\n",
              "          if (!dataTable) return;\n",
              "\n",
              "          const docLinkHtml = 'Like what you see? Visit the ' +\n",
              "            '<a target=\"_blank\" href=https://colab.research.google.com/notebooks/data_table.ipynb>data table notebook</a>'\n",
              "            + ' to learn more about interactive tables.';\n",
              "          element.innerHTML = '';\n",
              "          dataTable['output_type'] = 'display_data';\n",
              "          await google.colab.output.renderOutput(dataTable, element);\n",
              "          const docLink = document.createElement('div');\n",
              "          docLink.innerHTML = docLinkHtml;\n",
              "          element.appendChild(docLink);\n",
              "        }\n",
              "      </script>\n",
              "    </div>\n",
              "  </div>\n",
              "  "
            ]
          },
          "metadata": {},
          "execution_count": 10
        }
      ],
      "source": [
        "df.corr()#gives the correlation between columns of float and int datatype"
      ]
    },
    {
      "cell_type": "code",
      "execution_count": null,
      "metadata": {
        "id": "XiaP4OD5j_ZT",
        "outputId": "1f210757-de73-4ea0-b49d-06ea285fcd7a",
        "colab": {
          "base_uri": "https://localhost:8080/",
          "height": 440
        }
      },
      "outputs": [
        {
          "output_type": "execute_result",
          "data": {
            "text/plain": [
              "<matplotlib.axes._subplots.AxesSubplot at 0x7f4544778590>"
            ]
          },
          "metadata": {},
          "execution_count": 11
        },
        {
          "output_type": "display_data",
          "data": {
            "text/plain": [
              "<Figure size 432x288 with 2 Axes>"
            ],
            "image/png": "[encoded data removed]"
          },
          "metadata": {
            "needs_background": "light"
          }
        }
      ],
      "source": [
        "sns.heatmap(df.corr())"
      ]
    },
    {
      "cell_type": "code",
      "execution_count": null,
      "metadata": {
        "id": "r7r9rWDZj_ZT",
        "outputId": "d455ca10-04c7-4cf7-90ec-bf1904cd4b58",
        "colab": {
          "base_uri": "https://localhost:8080/",
          "height": 295
        }
      },
      "outputs": [
        {
          "output_type": "display_data",
          "data": {
            "text/plain": [
              "<Figure size 432x288 with 1 Axes>"
            ],
            "image/png": "[encoded data removed]"
          },
          "metadata": {
            "needs_background": "light"
          }
        }
      ],
      "source": [
        "plt.hist(df.Hotel_type)\n",
        "plt.xlabel(\"Types of hotel\")\n",
        "plt.ylabel(\"No of reservations\")\n",
        "plt.title(\"Hotel type vs Reservation\")\n",
        "plt.show()"
      ]
    },
    {
      "cell_type": "code",
      "execution_count": null,
      "metadata": {
        "id": "W3b4loSSj_ZU",
        "outputId": "abda6a3f-9f8a-4e92-af14-80b572f6bc8c",
        "colab": {
          "base_uri": "https://localhost:8080/",
          "height": 352
        }
      },
      "outputs": [
        {
          "output_type": "execute_result",
          "data": {
            "text/plain": [
              "<matplotlib.axes._subplots.AxesSubplot at 0x7f45451cf350>"
            ]
          },
          "metadata": {},
          "execution_count": 14
        },
        {
          "output_type": "display_data",
          "data": {
            "text/plain": [
              "<Figure size 432x288 with 1 Axes>"
            ],
            "image/png": "[encoded data removed]"
          },
          "metadata": {
            "needs_background": "light"
          }
        }
      ],
      "source": [
        "df.market_segment.value_counts().plot.bar()"
      ]
    },
    {
      "cell_type": "code",
      "execution_count": null,
      "metadata": {
        "id": "IuvN4Yflj_ZU",
        "outputId": "9ac91432-2adf-4ebe-fb16-a06198789e81",
        "colab": {
          "base_uri": "https://localhost:8080/",
          "height": 297
        }
      },
      "outputs": [
        {
          "output_type": "execute_result",
          "data": {
            "text/plain": [
              "<matplotlib.axes._subplots.AxesSubplot at 0x7f454adb8a50>"
            ]
          },
          "metadata": {},
          "execution_count": 16
        },
        {
          "output_type": "display_data",
          "data": {
            "text/plain": [
              "<Figure size 432x288 with 1 Axes>"
            ],
            "image/png": "[encoded data removed]"
          },
          "metadata": {
            "needs_background": "light"
          }
        }
      ],
      "source": [
        "sns.countplot(x=df.customer_type,data=df)#gives the count of customer type in bar plot"
      ]
    },
    {
      "cell_type": "code",
      "execution_count": null,
      "metadata": {
        "id": "Z7ZRg6vlQep_"
      },
      "outputs": [],
      "source": [
        "sns.countplot(x=df.customer_type,data=df,hue='is_canceled')"
      ]
    },
    {
      "cell_type": "markdown",
      "metadata": {
        "id": "iBGjfhQPj_ZU"
      },
      "source": [
        "The hue value is added in this plot and the significance of it is that it says in transient customer type the cancelled bookings is more ie breaking the simple countplot into more depths of another column and this is shown in the below group by chart in the form of numbers"
      ]
    },
    {
      "cell_type": "code",
      "execution_count": null,
      "metadata": {
        "id": "QO5F0VS6Qvjs"
      },
      "outputs": [],
      "source": [
        "df[['customer_type','is_canceled']].groupby(['customer_type']).agg(['mean','count'])"
      ]
    },
    {
      "cell_type": "markdown",
      "metadata": {
        "id": "J8qzN9zEj_ZU"
      },
      "source": [
        "The above plot is been confirmed from this table. We need to focus on the mean column\n",
        "and in that we see the mean of Transient is more which tells us that the no of cancellations done \n",
        "is from Transient customer type and the mean is calculated by 33409/77756 where 33409 is the rows\n",
        "where is_cancelled value is 1 ie cancellation done and 77756 is the total count of transient customer type.\n",
        "All the above details is shown in the below cross tab"
      ]
    },
    {
      "cell_type": "code",
      "execution_count": null,
      "metadata": {
        "id": "XAXR16nHj_ZU"
      },
      "outputs": [],
      "source": [
        "pd.crosstab(df.is_canceled,df.customer_type,margins=True)\n",
        "#This is the cross tab which tells the no of ones and zeros in each customer type"
      ]
    },
    {
      "cell_type": "code",
      "execution_count": null,
      "metadata": {
        "id": "76w5Ot84j_ZV"
      },
      "outputs": [],
      "source": [
        "sns.barplot(x = 'customer_type',y = 'is_canceled', data = df)"
      ]
    },
    {
      "cell_type": "markdown",
      "metadata": {
        "id": "TmVh9srTj_ZV"
      },
      "source": [
        "This is plot of customer type with the mean which was shown above and the black line\n",
        "denotes the deviation in the values of those columns so basically the Group has the largest deviation \n",
        "which means its not sure wether this customer type would cancel or not even though its mean value is less\n",
        "because its deviation is more and similarly we can say that Transient customer type would cancel with more \n",
        "assurity as its deviation is less"
      ]
    },
    {
      "cell_type": "code",
      "execution_count": null,
      "metadata": {
        "id": "eQ2qkakLj_ZV"
      },
      "outputs": [],
      "source": [
        "sns.barplot(x = 'customer_type',y = 'is_canceled', hue='Hotel_type', data = df)"
      ]
    },
    {
      "cell_type": "markdown",
      "metadata": {
        "id": "VE7cnrPpj_ZV"
      },
      "source": [
        "The above plot shows that in every type of customers who are booking in City hotel are doing more cancellations as their mean value is more than Resort hotel and also a large amount of deviation is seen in Group customer type wrt to both Resort and City hotel.\n",
        "One more inference can be drawn is that the Transient customers are doing more cancellations in Resort hotel type as comapared to other customers in same type of hotel."
      ]
    }
  ],
  "metadata": {
    "colab": {
      "provenance": [],
      "include_colab_link": true
    },
    "kernelspec": {
      "display_name": "Python 3.9.1 64-bit",
      "language": "python",
      "name": "python3"
    },
    "language_info": {
      "codemirror_mode": {
        "name": "ipython",
        "version": 3
      },
      "file_extension": ".py",
      "mimetype": "text/x-python",
      "name": "python",
      "nbconvert_exporter": "python",
      "pygments_lexer": "ipython3",
      "version": "3.9.1"
    },
    "vscode": {
      "interpreter": {
        "hash": "996f2b6e98019c29df53ccff772a8e3fe7cdecb0ba4b3f6ddb9be804d297dd3d"
      }
    }
  },
  "nbformat": 4,
  "nbformat_minor": 0
}